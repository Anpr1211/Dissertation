{
 "cells": [
  {
   "cell_type": "code",
   "execution_count": 18,
   "metadata": {},
   "outputs": [],
   "source": [
    "# import libraries\n",
    "\n",
    "options(warn=-1)     # to suppress warnings\n",
    "\n",
    "library(readxl)\n",
    "library(forecast)"
   ]
  },
  {
   "cell_type": "code",
   "execution_count": 5,
   "metadata": {},
   "outputs": [],
   "source": [
    "# read main file\n",
    "\n",
    "data = read_xls(\"C:/Users/Ankita/Desktop/Dissertation/M3C.xls\", sheet=3)"
   ]
  },
  {
   "cell_type": "code",
   "execution_count": 6,
   "metadata": {
    "scrolled": true
   },
   "outputs": [
    {
     "data": {
      "text/html": [
       "<table>\n",
       "<thead><tr><th scope=col>Series</th><th scope=col>N</th><th scope=col>NF</th><th scope=col>Category</th><th scope=col>Starting Year</th><th scope=col>Starting Month</th><th scope=col>1</th><th scope=col>2</th><th scope=col>3</th><th scope=col>4</th><th scope=col>...</th><th scope=col>135</th><th scope=col>136</th><th scope=col>137</th><th scope=col>138</th><th scope=col>139</th><th scope=col>140</th><th scope=col>141</th><th scope=col>142</th><th scope=col>143</th><th scope=col>144</th></tr></thead>\n",
       "<tbody>\n",
       "\t<tr><td>N1402</td><td>68   </td><td>18   </td><td>MICRO</td><td>1990 </td><td>1    </td><td> 2640</td><td>2640 </td><td> 2160</td><td> 4200</td><td>...  </td><td>NA   </td><td>NA   </td><td>NA   </td><td>NA   </td><td>NA   </td><td>NA   </td><td>NA   </td><td>NA   </td><td>NA   </td><td>NA   </td></tr>\n",
       "\t<tr><td>N1403</td><td>68   </td><td>18   </td><td>MICRO</td><td>1990 </td><td>1    </td><td> 1680</td><td>1920 </td><td>  120</td><td> 1080</td><td>...  </td><td>NA   </td><td>NA   </td><td>NA   </td><td>NA   </td><td>NA   </td><td>NA   </td><td>NA   </td><td>NA   </td><td>NA   </td><td>NA   </td></tr>\n",
       "\t<tr><td>N1404</td><td>68   </td><td>18   </td><td>MICRO</td><td>1990 </td><td>1    </td><td> 1140</td><td> 720 </td><td> 4860</td><td> 1200</td><td>...  </td><td>NA   </td><td>NA   </td><td>NA   </td><td>NA   </td><td>NA   </td><td>NA   </td><td>NA   </td><td>NA   </td><td>NA   </td><td>NA   </td></tr>\n",
       "\t<tr><td>N1405</td><td>68   </td><td>18   </td><td>MICRO</td><td>1990 </td><td>1    </td><td>  180</td><td> 940 </td><td> 2040</td><td>  800</td><td>...  </td><td>NA   </td><td>NA   </td><td>NA   </td><td>NA   </td><td>NA   </td><td>NA   </td><td>NA   </td><td>NA   </td><td>NA   </td><td>NA   </td></tr>\n",
       "\t<tr><td>N1406</td><td>68   </td><td>18   </td><td>MICRO</td><td>1990 </td><td>1    </td><td> 2000</td><td>1550 </td><td> 4450</td><td> 3050</td><td>...  </td><td>NA   </td><td>NA   </td><td>NA   </td><td>NA   </td><td>NA   </td><td>NA   </td><td>NA   </td><td>NA   </td><td>NA   </td><td>NA   </td></tr>\n",
       "\t<tr><td>N1407</td><td>68   </td><td>18   </td><td>MICRO</td><td>1990 </td><td>1    </td><td> 1200</td><td>2850 </td><td> 1350</td><td> 1500</td><td>...  </td><td>NA   </td><td>NA   </td><td>NA   </td><td>NA   </td><td>NA   </td><td>NA   </td><td>NA   </td><td>NA   </td><td>NA   </td><td>NA   </td></tr>\n",
       "\t<tr><td>N1408</td><td>68   </td><td>18   </td><td>MICRO</td><td>1990 </td><td>1    </td><td> 1350</td><td>2400 </td><td> 1950</td><td> 2250</td><td>...  </td><td>NA   </td><td>NA   </td><td>NA   </td><td>NA   </td><td>NA   </td><td>NA   </td><td>NA   </td><td>NA   </td><td>NA   </td><td>NA   </td></tr>\n",
       "\t<tr><td>N1409</td><td>68   </td><td>18   </td><td>MICRO</td><td>1990 </td><td>1    </td><td> 2700</td><td>3600 </td><td> 1950</td><td> 4650</td><td>...  </td><td>NA   </td><td>NA   </td><td>NA   </td><td>NA   </td><td>NA   </td><td>NA   </td><td>NA   </td><td>NA   </td><td>NA   </td><td>NA   </td></tr>\n",
       "\t<tr><td>N1410</td><td>68   </td><td>18   </td><td>MICRO</td><td>1990 </td><td>1    </td><td> 3680</td><td>2600 </td><td> 2460</td><td> 3860</td><td>...  </td><td>NA   </td><td>NA   </td><td>NA   </td><td>NA   </td><td>NA   </td><td>NA   </td><td>NA   </td><td>NA   </td><td>NA   </td><td>NA   </td></tr>\n",
       "\t<tr><td>N1411</td><td>68   </td><td>18   </td><td>MICRO</td><td>1990 </td><td>1    </td><td> 4120</td><td>5020 </td><td> 3840</td><td> 5720</td><td>...  </td><td>NA   </td><td>NA   </td><td>NA   </td><td>NA   </td><td>NA   </td><td>NA   </td><td>NA   </td><td>NA   </td><td>NA   </td><td>NA   </td></tr>\n",
       "\t<tr><td>N1412</td><td>68   </td><td>18   </td><td>MICRO</td><td>1990 </td><td>1    </td><td> 2180</td><td>3540 </td><td> 3260</td><td> 3460</td><td>...  </td><td>NA   </td><td>NA   </td><td>NA   </td><td>NA   </td><td>NA   </td><td>NA   </td><td>NA   </td><td>NA   </td><td>NA   </td><td>NA   </td></tr>\n",
       "\t<tr><td>N1413</td><td>68   </td><td>18   </td><td>MICRO</td><td>1990 </td><td>1    </td><td> 1000</td><td>1600 </td><td>12600</td><td> 5320</td><td>...  </td><td>NA   </td><td>NA   </td><td>NA   </td><td>NA   </td><td>NA   </td><td>NA   </td><td>NA   </td><td>NA   </td><td>NA   </td><td>NA   </td></tr>\n",
       "\t<tr><td>N1414</td><td>68   </td><td>18   </td><td>MICRO</td><td>1990 </td><td>1    </td><td> 1100</td><td>1700 </td><td> 3950</td><td> 2700</td><td>...  </td><td>NA   </td><td>NA   </td><td>NA   </td><td>NA   </td><td>NA   </td><td>NA   </td><td>NA   </td><td>NA   </td><td>NA   </td><td>NA   </td></tr>\n",
       "\t<tr><td>N1415</td><td>68   </td><td>18   </td><td>MICRO</td><td>1990 </td><td>1    </td><td> 3900</td><td>4900 </td><td> 5400</td><td> 4250</td><td>...  </td><td>NA   </td><td>NA   </td><td>NA   </td><td>NA   </td><td>NA   </td><td>NA   </td><td>NA   </td><td>NA   </td><td>NA   </td><td>NA   </td></tr>\n",
       "\t<tr><td>N1416</td><td>68   </td><td>18   </td><td>MICRO</td><td>1990 </td><td>1    </td><td>  680</td><td>2020 </td><td> 1780</td><td> 1720</td><td>...  </td><td>NA   </td><td>NA   </td><td>NA   </td><td>NA   </td><td>NA   </td><td>NA   </td><td>NA   </td><td>NA   </td><td>NA   </td><td>NA   </td></tr>\n",
       "\t<tr><td>N1417</td><td>68   </td><td>18   </td><td>MICRO</td><td>1990 </td><td>1    </td><td>  880</td><td> 620 </td><td> 2240</td><td> 1320</td><td>...  </td><td>NA   </td><td>NA   </td><td>NA   </td><td>NA   </td><td>NA   </td><td>NA   </td><td>NA   </td><td>NA   </td><td>NA   </td><td>NA   </td></tr>\n",
       "\t<tr><td>N1418</td><td>68   </td><td>18   </td><td>MICRO</td><td>1990 </td><td>1    </td><td> 2160</td><td> 360 </td><td> 1080</td><td> 1920</td><td>...  </td><td>NA   </td><td>NA   </td><td>NA   </td><td>NA   </td><td>NA   </td><td>NA   </td><td>NA   </td><td>NA   </td><td>NA   </td><td>NA   </td></tr>\n",
       "\t<tr><td>N1419</td><td>68   </td><td>18   </td><td>MICRO</td><td>1990 </td><td>1    </td><td>  960</td><td>1920 </td><td> 2040</td><td>  840</td><td>...  </td><td>NA   </td><td>NA   </td><td>NA   </td><td>NA   </td><td>NA   </td><td>NA   </td><td>NA   </td><td>NA   </td><td>NA   </td><td>NA   </td></tr>\n",
       "\t<tr><td>N1420</td><td>69   </td><td>18   </td><td>MICRO</td><td>1990 </td><td>1    </td><td> 3450</td><td>3100 </td><td> 5350</td><td> 3200</td><td>...  </td><td>NA   </td><td>NA   </td><td>NA   </td><td>NA   </td><td>NA   </td><td>NA   </td><td>NA   </td><td>NA   </td><td>NA   </td><td>NA   </td></tr>\n",
       "\t<tr><td>N1421</td><td>69   </td><td>18   </td><td>MICRO</td><td>1990 </td><td>1    </td><td> 6450</td><td>6400 </td><td> 6950</td><td> 6050</td><td>...  </td><td>NA   </td><td>NA   </td><td>NA   </td><td>NA   </td><td>NA   </td><td>NA   </td><td>NA   </td><td>NA   </td><td>NA   </td><td>NA   </td></tr>\n",
       "\t<tr><td>N1422</td><td>69   </td><td>18   </td><td>MICRO</td><td>1990 </td><td>1    </td><td> 8900</td><td>7300 </td><td>11500</td><td>10100</td><td>...  </td><td>NA   </td><td>NA   </td><td>NA   </td><td>NA   </td><td>NA   </td><td>NA   </td><td>NA   </td><td>NA   </td><td>NA   </td><td>NA   </td></tr>\n",
       "\t<tr><td>N1423</td><td>69   </td><td>18   </td><td>MICRO</td><td>1990 </td><td>1    </td><td> 6900</td><td>7300 </td><td> 8100</td><td> 7000</td><td>...  </td><td>NA   </td><td>NA   </td><td>NA   </td><td>NA   </td><td>NA   </td><td>NA   </td><td>NA   </td><td>NA   </td><td>NA   </td><td>NA   </td></tr>\n",
       "\t<tr><td>N1424</td><td>69   </td><td>18   </td><td>MICRO</td><td>1990 </td><td>1    </td><td> 5190</td><td>4805 </td><td> 4935</td><td> 3675</td><td>...  </td><td>NA   </td><td>NA   </td><td>NA   </td><td>NA   </td><td>NA   </td><td>NA   </td><td>NA   </td><td>NA   </td><td>NA   </td><td>NA   </td></tr>\n",
       "\t<tr><td>N1425</td><td>69   </td><td>18   </td><td>MICRO</td><td>1990 </td><td>1    </td><td>10500</td><td>4800 </td><td> 6750</td><td> 4600</td><td>...  </td><td>NA   </td><td>NA   </td><td>NA   </td><td>NA   </td><td>NA   </td><td>NA   </td><td>NA   </td><td>NA   </td><td>NA   </td><td>NA   </td></tr>\n",
       "\t<tr><td>N1426</td><td>69   </td><td>18   </td><td>MICRO</td><td>1990 </td><td>1    </td><td> 4770</td><td>4044 </td><td> 2960</td><td> 3358</td><td>...  </td><td>NA   </td><td>NA   </td><td>NA   </td><td>NA   </td><td>NA   </td><td>NA   </td><td>NA   </td><td>NA   </td><td>NA   </td><td>NA   </td></tr>\n",
       "\t<tr><td>N1427</td><td>69   </td><td>18   </td><td>MICRO</td><td>1990 </td><td>1    </td><td> 4250</td><td>4500 </td><td> 3900</td><td> 3550</td><td>...  </td><td>NA   </td><td>NA   </td><td>NA   </td><td>NA   </td><td>NA   </td><td>NA   </td><td>NA   </td><td>NA   </td><td>NA   </td><td>NA   </td></tr>\n",
       "\t<tr><td>N1428</td><td>69   </td><td>18   </td><td>MICRO</td><td>1990 </td><td>1    </td><td> 3580</td><td>4680 </td><td> 2640</td><td> 2960</td><td>...  </td><td>NA   </td><td>NA   </td><td>NA   </td><td>NA   </td><td>NA   </td><td>NA   </td><td>NA   </td><td>NA   </td><td>NA   </td><td>NA   </td></tr>\n",
       "\t<tr><td>N1429</td><td>69   </td><td>18   </td><td>MICRO</td><td>1990 </td><td>1    </td><td> 6920</td><td>5440 </td><td> 4900</td><td> 5900</td><td>...  </td><td>NA   </td><td>NA   </td><td>NA   </td><td>NA   </td><td>NA   </td><td>NA   </td><td>NA   </td><td>NA   </td><td>NA   </td><td>NA   </td></tr>\n",
       "\t<tr><td>N1430</td><td>69   </td><td>18   </td><td>MICRO</td><td>1990 </td><td>1    </td><td>  200</td><td>2100 </td><td> 1250</td><td> 2250</td><td>...  </td><td>NA   </td><td>NA   </td><td>NA   </td><td>NA   </td><td>NA   </td><td>NA   </td><td>NA   </td><td>NA   </td><td>NA   </td><td>NA   </td></tr>\n",
       "\t<tr><td>N1431</td><td>69   </td><td>18   </td><td>MICRO</td><td>1990 </td><td>1    </td><td>  700</td><td>2800 </td><td>  600</td><td> 2400</td><td>...  </td><td>NA   </td><td>NA   </td><td>NA   </td><td>NA   </td><td>NA   </td><td>NA   </td><td>NA   </td><td>NA   </td><td>NA   </td><td>NA   </td></tr>\n",
       "\t<tr><td>...</td><td>...</td><td>...</td><td>...</td><td>...</td><td>...</td><td>...</td><td>...</td><td>...</td><td>...</td><td>   </td><td>...</td><td>...</td><td>...</td><td>...</td><td>...</td><td>...</td><td>...</td><td>...</td><td>...</td><td>...</td></tr>\n",
       "\t<tr><td>N2800  </td><td>96     </td><td>18     </td><td>OTHER  </td><td>1985   </td><td>1      </td><td> 1880.0</td><td> 3600.0</td><td> 4600.0</td><td> 6560.0</td><td>...    </td><td>NA     </td><td>NA     </td><td>NA     </td><td>NA     </td><td>NA     </td><td>NA     </td><td>NA     </td><td>NA     </td><td>NA     </td><td>NA     </td></tr>\n",
       "\t<tr><td>N2801  </td><td>71     </td><td>18     </td><td>OTHER  </td><td>   0   </td><td>0      </td><td> 8139.0</td><td> 8332.2</td><td> 8321.6</td><td> 8374.7</td><td>...    </td><td>NA     </td><td>NA     </td><td>NA     </td><td>NA     </td><td>NA     </td><td>NA     </td><td>NA     </td><td>NA     </td><td>NA     </td><td>NA     </td></tr>\n",
       "\t<tr><td>N2802  </td><td>71     </td><td>18     </td><td>OTHER  </td><td>   0   </td><td>0      </td><td> 2384.6</td><td> 2376.1</td><td> 2371.8</td><td> 2361.2</td><td>...    </td><td>NA     </td><td>NA     </td><td>NA     </td><td>NA     </td><td>NA     </td><td>NA     </td><td>NA     </td><td>NA     </td><td>NA     </td><td>NA     </td></tr>\n",
       "\t<tr><td>N2803  </td><td>71     </td><td>18     </td><td>OTHER  </td><td>   0   </td><td>0      </td><td> 5629.1</td><td> 5627.0</td><td> 5673.7</td><td> 5667.4</td><td>...    </td><td>NA     </td><td>NA     </td><td>NA     </td><td>NA     </td><td>NA     </td><td>NA     </td><td>NA     </td><td>NA     </td><td>NA     </td><td>NA     </td></tr>\n",
       "\t<tr><td>N2804  </td><td>71     </td><td>18     </td><td>OTHER  </td><td>   0   </td><td>0      </td><td>10961.0</td><td>10894.7</td><td>11245.2</td><td>11392.4</td><td>...    </td><td>NA     </td><td>NA     </td><td>NA     </td><td>NA     </td><td>NA     </td><td>NA     </td><td>NA     </td><td>NA     </td><td>NA     </td><td>NA     </td></tr>\n",
       "\t<tr><td>N2805  </td><td>71     </td><td>18     </td><td>OTHER  </td><td>   0   </td><td>0      </td><td> 4231.9</td><td> 4170.4</td><td> 4140.6</td><td> 4236.2</td><td>...    </td><td>NA     </td><td>NA     </td><td>NA     </td><td>NA     </td><td>NA     </td><td>NA     </td><td>NA     </td><td>NA     </td><td>NA     </td><td>NA     </td></tr>\n",
       "\t<tr><td>N2806  </td><td>71     </td><td>18     </td><td>OTHER  </td><td>   0   </td><td>0      </td><td> 4350.8</td><td> 4227.7</td><td> 4166.1</td><td> 4066.3</td><td>...    </td><td>NA     </td><td>NA     </td><td>NA     </td><td>NA     </td><td>NA     </td><td>NA     </td><td>NA     </td><td>NA     </td><td>NA     </td><td>NA     </td></tr>\n",
       "\t<tr><td>N2807  </td><td>71     </td><td>18     </td><td>OTHER  </td><td>   0   </td><td>0      </td><td> 8559.0</td><td> 8511.9</td><td> 8527.2</td><td> 8537.4</td><td>...    </td><td>NA     </td><td>NA     </td><td>NA     </td><td>NA     </td><td>NA     </td><td>NA     </td><td>NA     </td><td>NA     </td><td>NA     </td><td>NA     </td></tr>\n",
       "\t<tr><td>N2808  </td><td>71     </td><td>18     </td><td>OTHER  </td><td>   0   </td><td>0      </td><td> 3480.3</td><td> 3454.8</td><td> 3435.7</td><td> 3465.4</td><td>...    </td><td>NA     </td><td>NA     </td><td>NA     </td><td>NA     </td><td>NA     </td><td>NA     </td><td>NA     </td><td>NA     </td><td>NA     </td><td>NA     </td></tr>\n",
       "\t<tr><td>N2809  </td><td>71     </td><td>18     </td><td>OTHER  </td><td>   0   </td><td>0      </td><td> 4166.1</td><td> 4147.0</td><td> 4121.5</td><td> 4106.7</td><td>...    </td><td>NA     </td><td>NA     </td><td>NA     </td><td>NA     </td><td>NA     </td><td>NA     </td><td>NA     </td><td>NA     </td><td>NA     </td><td>NA     </td></tr>\n",
       "\t<tr><td>N2810  </td><td>71     </td><td>18     </td><td>OTHER  </td><td>   0   </td><td>0      </td><td> 6407.6</td><td> 6369.6</td><td> 6356.5</td><td> 6328.1</td><td>...    </td><td>NA     </td><td>NA     </td><td>NA     </td><td>NA     </td><td>NA     </td><td>NA     </td><td>NA     </td><td>NA     </td><td>NA     </td><td>NA     </td></tr>\n",
       "\t<tr><td>N2811  </td><td>71     </td><td>18     </td><td>OTHER  </td><td>   0   </td><td>0      </td><td> 5847.8</td><td> 5839.4</td><td> 5826.6</td><td> 5824.5</td><td>...    </td><td>NA     </td><td>NA     </td><td>NA     </td><td>NA     </td><td>NA     </td><td>NA     </td><td>NA     </td><td>NA     </td><td>NA     </td><td>NA     </td></tr>\n",
       "\t<tr><td>N2812  </td><td>71     </td><td>18     </td><td>OTHER  </td><td>   0   </td><td>0      </td><td> 7022.1</td><td> 7013.6</td><td> 6767.3</td><td> 6584.7</td><td>...    </td><td>NA     </td><td>NA     </td><td>NA     </td><td>NA     </td><td>NA     </td><td>NA     </td><td>NA     </td><td>NA     </td><td>NA     </td><td>NA     </td></tr>\n",
       "\t<tr><td>N2813  </td><td>71     </td><td>18     </td><td>OTHER  </td><td>   0   </td><td>0      </td><td> 3420.4</td><td> 3419.9</td><td> 3370.5</td><td> 3323.9</td><td>...    </td><td>NA     </td><td>NA     </td><td>NA     </td><td>NA     </td><td>NA     </td><td>NA     </td><td>NA     </td><td>NA     </td><td>NA     </td><td>NA     </td></tr>\n",
       "\t<tr><td>N2814  </td><td>71     </td><td>18     </td><td>OTHER  </td><td>   0   </td><td>0      </td><td> 7465.9</td><td> 7419.2</td><td> 7366.1</td><td> 7332.1</td><td>...    </td><td>NA     </td><td>NA     </td><td>NA     </td><td>NA     </td><td>NA     </td><td>NA     </td><td>NA     </td><td>NA     </td><td>NA     </td><td>NA     </td></tr>\n",
       "\t<tr><td>N2815  </td><td>71     </td><td>18     </td><td>OTHER  </td><td>   0   </td><td>0      </td><td> 3210.6</td><td> 3195.7</td><td> 3180.9</td><td> 3157.5</td><td>...    </td><td>NA     </td><td>NA     </td><td>NA     </td><td>NA     </td><td>NA     </td><td>NA     </td><td>NA     </td><td>NA     </td><td>NA     </td><td>NA     </td></tr>\n",
       "\t<tr><td>N2816  </td><td>71     </td><td>18     </td><td>OTHER  </td><td>   0   </td><td>0      </td><td> 4425.2</td><td> 4418.8</td><td> 4391.2</td><td> 4363.6</td><td>...    </td><td>NA     </td><td>NA     </td><td>NA     </td><td>NA     </td><td>NA     </td><td>NA     </td><td>NA     </td><td>NA     </td><td>NA     </td><td>NA     </td></tr>\n",
       "\t<tr><td>N2817  </td><td>71     </td><td>18     </td><td>OTHER  </td><td>   0   </td><td>0      </td><td> 9234.7</td><td> 9179.5</td><td> 9168.8</td><td> 9086.0</td><td>...    </td><td>NA     </td><td>NA     </td><td>NA     </td><td>NA     </td><td>NA     </td><td>NA     </td><td>NA     </td><td>NA     </td><td>NA     </td><td>NA     </td></tr>\n",
       "\t<tr><td>N2818  </td><td>71     </td><td>18     </td><td>OTHER  </td><td>   0   </td><td>0      </td><td> 3694.1</td><td> 3663.4</td><td> 3634.5</td><td> 3626.0</td><td>...    </td><td>NA     </td><td>NA     </td><td>NA     </td><td>NA     </td><td>NA     </td><td>NA     </td><td>NA     </td><td>NA     </td><td>NA     </td><td>NA     </td></tr>\n",
       "\t<tr><td>N2819  </td><td>71     </td><td>18     </td><td>OTHER  </td><td>   0   </td><td>0      </td><td> 3498.2</td><td> 3485.2</td><td> 3465.3</td><td> 3468.7</td><td>...    </td><td>NA     </td><td>NA     </td><td>NA     </td><td>NA     </td><td>NA     </td><td>NA     </td><td>NA     </td><td>NA     </td><td>NA     </td><td>NA     </td></tr>\n",
       "\t<tr><td>N2820  </td><td>71     </td><td>18     </td><td>OTHER  </td><td>   0   </td><td>0      </td><td> 5057.9</td><td> 4934.8</td><td> 4919.9</td><td> 4883.8</td><td>...    </td><td>NA     </td><td>NA     </td><td>NA     </td><td>NA     </td><td>NA     </td><td>NA     </td><td>NA     </td><td>NA     </td><td>NA     </td><td>NA     </td></tr>\n",
       "\t<tr><td>N2821  </td><td>71     </td><td>18     </td><td>OTHER  </td><td>   0   </td><td>0      </td><td> 7402.2</td><td> 7372.4</td><td> 7293.9</td><td> 7262.0</td><td>...    </td><td>NA     </td><td>NA     </td><td>NA     </td><td>NA     </td><td>NA     </td><td>NA     </td><td>NA     </td><td>NA     </td><td>NA     </td><td>NA     </td></tr>\n",
       "\t<tr><td>N2822  </td><td>71     </td><td>18     </td><td>OTHER  </td><td>   0   </td><td>0      </td><td>10324.0</td><td>10311.2</td><td>10056.4</td><td>10075.5</td><td>...    </td><td>NA     </td><td>NA     </td><td>NA     </td><td>NA     </td><td>NA     </td><td>NA     </td><td>NA     </td><td>NA     </td><td>NA     </td><td>NA     </td></tr>\n",
       "\t<tr><td>N2823  </td><td>71     </td><td>18     </td><td>OTHER  </td><td>   0   </td><td>0      </td><td> 3755.4</td><td> 3782.7</td><td> 3771.3</td><td> 3773.6</td><td>...    </td><td>NA     </td><td>NA     </td><td>NA     </td><td>NA     </td><td>NA     </td><td>NA     </td><td>NA     </td><td>NA     </td><td>NA     </td><td>NA     </td></tr>\n",
       "\t<tr><td>N2824  </td><td>71     </td><td>18     </td><td>OTHER  </td><td>   0   </td><td>0      </td><td> 5784.1</td><td> 5883.9</td><td> 5758.7</td><td> 5765.0</td><td>...    </td><td>NA     </td><td>NA     </td><td>NA     </td><td>NA     </td><td>NA     </td><td>NA     </td><td>NA     </td><td>NA     </td><td>NA     </td><td>NA     </td></tr>\n",
       "\t<tr><td>N2825  </td><td>71     </td><td>18     </td><td>OTHER  </td><td>   0   </td><td>0      </td><td> 3295.5</td><td> 3301.9</td><td> 3244.6</td><td> 3221.2</td><td>...    </td><td>NA     </td><td>NA     </td><td>NA     </td><td>NA     </td><td>NA     </td><td>NA     </td><td>NA     </td><td>NA     </td><td>NA     </td><td>NA     </td></tr>\n",
       "\t<tr><td>N2826  </td><td>71     </td><td>18     </td><td>OTHER  </td><td>   0   </td><td>0      </td><td> 4922.8</td><td> 4924.5</td><td> 4960.9</td><td> 4930.2</td><td>...    </td><td>NA     </td><td>NA     </td><td>NA     </td><td>NA     </td><td>NA     </td><td>NA     </td><td>NA     </td><td>NA     </td><td>NA     </td><td>NA     </td></tr>\n",
       "\t<tr><td>N2827  </td><td>71     </td><td>18     </td><td>OTHER  </td><td>   0   </td><td>0      </td><td> 4142.8</td><td> 4096.0</td><td> 4074.8</td><td> 4015.3</td><td>...    </td><td>NA     </td><td>NA     </td><td>NA     </td><td>NA     </td><td>NA     </td><td>NA     </td><td>NA     </td><td>NA     </td><td>NA     </td><td>NA     </td></tr>\n",
       "\t<tr><td>N2828  </td><td>71     </td><td>18     </td><td>OTHER  </td><td>   0   </td><td>0      </td><td> 3004.6</td><td> 2983.4</td><td> 2983.4</td><td> 2974.9</td><td>...    </td><td>NA     </td><td>NA     </td><td>NA     </td><td>NA     </td><td>NA     </td><td>NA     </td><td>NA     </td><td>NA     </td><td>NA     </td><td>NA     </td></tr>\n",
       "\t<tr><td>N2829  </td><td>71     </td><td>18     </td><td>OTHER  </td><td>   0   </td><td>0      </td><td> 2622.4</td><td> 2607.5</td><td> 2556.6</td><td> 2569.3</td><td>...    </td><td>NA     </td><td>NA     </td><td>NA     </td><td>NA     </td><td>NA     </td><td>NA     </td><td>NA     </td><td>NA     </td><td>NA     </td><td>NA     </td></tr>\n",
       "</tbody>\n",
       "</table>\n"
      ],
      "text/latex": [
       "\\begin{tabular}{r|llllllllllllllllllllllllllllllllllllllllllllllllllllllllllllllllllllllllllllllllllllllllllllllllllllllllllllllllllllllllllllllllllllllllllllllllllllll}\n",
       " Series & N & NF & Category & Starting Year & Starting Month & 1 & 2 & 3 & 4 & ... & 135 & 136 & 137 & 138 & 139 & 140 & 141 & 142 & 143 & 144\\\\\n",
       "\\hline\n",
       "\t N1402 & 68    & 18    & MICRO & 1990  & 1     &  2640 & 2640  &  2160 &  4200 & ...   & NA    & NA    & NA    & NA    & NA    & NA    & NA    & NA    & NA    & NA   \\\\\n",
       "\t N1403 & 68    & 18    & MICRO & 1990  & 1     &  1680 & 1920  &   120 &  1080 & ...   & NA    & NA    & NA    & NA    & NA    & NA    & NA    & NA    & NA    & NA   \\\\\n",
       "\t N1404 & 68    & 18    & MICRO & 1990  & 1     &  1140 &  720  &  4860 &  1200 & ...   & NA    & NA    & NA    & NA    & NA    & NA    & NA    & NA    & NA    & NA   \\\\\n",
       "\t N1405 & 68    & 18    & MICRO & 1990  & 1     &   180 &  940  &  2040 &   800 & ...   & NA    & NA    & NA    & NA    & NA    & NA    & NA    & NA    & NA    & NA   \\\\\n",
       "\t N1406 & 68    & 18    & MICRO & 1990  & 1     &  2000 & 1550  &  4450 &  3050 & ...   & NA    & NA    & NA    & NA    & NA    & NA    & NA    & NA    & NA    & NA   \\\\\n",
       "\t N1407 & 68    & 18    & MICRO & 1990  & 1     &  1200 & 2850  &  1350 &  1500 & ...   & NA    & NA    & NA    & NA    & NA    & NA    & NA    & NA    & NA    & NA   \\\\\n",
       "\t N1408 & 68    & 18    & MICRO & 1990  & 1     &  1350 & 2400  &  1950 &  2250 & ...   & NA    & NA    & NA    & NA    & NA    & NA    & NA    & NA    & NA    & NA   \\\\\n",
       "\t N1409 & 68    & 18    & MICRO & 1990  & 1     &  2700 & 3600  &  1950 &  4650 & ...   & NA    & NA    & NA    & NA    & NA    & NA    & NA    & NA    & NA    & NA   \\\\\n",
       "\t N1410 & 68    & 18    & MICRO & 1990  & 1     &  3680 & 2600  &  2460 &  3860 & ...   & NA    & NA    & NA    & NA    & NA    & NA    & NA    & NA    & NA    & NA   \\\\\n",
       "\t N1411 & 68    & 18    & MICRO & 1990  & 1     &  4120 & 5020  &  3840 &  5720 & ...   & NA    & NA    & NA    & NA    & NA    & NA    & NA    & NA    & NA    & NA   \\\\\n",
       "\t N1412 & 68    & 18    & MICRO & 1990  & 1     &  2180 & 3540  &  3260 &  3460 & ...   & NA    & NA    & NA    & NA    & NA    & NA    & NA    & NA    & NA    & NA   \\\\\n",
       "\t N1413 & 68    & 18    & MICRO & 1990  & 1     &  1000 & 1600  & 12600 &  5320 & ...   & NA    & NA    & NA    & NA    & NA    & NA    & NA    & NA    & NA    & NA   \\\\\n",
       "\t N1414 & 68    & 18    & MICRO & 1990  & 1     &  1100 & 1700  &  3950 &  2700 & ...   & NA    & NA    & NA    & NA    & NA    & NA    & NA    & NA    & NA    & NA   \\\\\n",
       "\t N1415 & 68    & 18    & MICRO & 1990  & 1     &  3900 & 4900  &  5400 &  4250 & ...   & NA    & NA    & NA    & NA    & NA    & NA    & NA    & NA    & NA    & NA   \\\\\n",
       "\t N1416 & 68    & 18    & MICRO & 1990  & 1     &   680 & 2020  &  1780 &  1720 & ...   & NA    & NA    & NA    & NA    & NA    & NA    & NA    & NA    & NA    & NA   \\\\\n",
       "\t N1417 & 68    & 18    & MICRO & 1990  & 1     &   880 &  620  &  2240 &  1320 & ...   & NA    & NA    & NA    & NA    & NA    & NA    & NA    & NA    & NA    & NA   \\\\\n",
       "\t N1418 & 68    & 18    & MICRO & 1990  & 1     &  2160 &  360  &  1080 &  1920 & ...   & NA    & NA    & NA    & NA    & NA    & NA    & NA    & NA    & NA    & NA   \\\\\n",
       "\t N1419 & 68    & 18    & MICRO & 1990  & 1     &   960 & 1920  &  2040 &   840 & ...   & NA    & NA    & NA    & NA    & NA    & NA    & NA    & NA    & NA    & NA   \\\\\n",
       "\t N1420 & 69    & 18    & MICRO & 1990  & 1     &  3450 & 3100  &  5350 &  3200 & ...   & NA    & NA    & NA    & NA    & NA    & NA    & NA    & NA    & NA    & NA   \\\\\n",
       "\t N1421 & 69    & 18    & MICRO & 1990  & 1     &  6450 & 6400  &  6950 &  6050 & ...   & NA    & NA    & NA    & NA    & NA    & NA    & NA    & NA    & NA    & NA   \\\\\n",
       "\t N1422 & 69    & 18    & MICRO & 1990  & 1     &  8900 & 7300  & 11500 & 10100 & ...   & NA    & NA    & NA    & NA    & NA    & NA    & NA    & NA    & NA    & NA   \\\\\n",
       "\t N1423 & 69    & 18    & MICRO & 1990  & 1     &  6900 & 7300  &  8100 &  7000 & ...   & NA    & NA    & NA    & NA    & NA    & NA    & NA    & NA    & NA    & NA   \\\\\n",
       "\t N1424 & 69    & 18    & MICRO & 1990  & 1     &  5190 & 4805  &  4935 &  3675 & ...   & NA    & NA    & NA    & NA    & NA    & NA    & NA    & NA    & NA    & NA   \\\\\n",
       "\t N1425 & 69    & 18    & MICRO & 1990  & 1     & 10500 & 4800  &  6750 &  4600 & ...   & NA    & NA    & NA    & NA    & NA    & NA    & NA    & NA    & NA    & NA   \\\\\n",
       "\t N1426 & 69    & 18    & MICRO & 1990  & 1     &  4770 & 4044  &  2960 &  3358 & ...   & NA    & NA    & NA    & NA    & NA    & NA    & NA    & NA    & NA    & NA   \\\\\n",
       "\t N1427 & 69    & 18    & MICRO & 1990  & 1     &  4250 & 4500  &  3900 &  3550 & ...   & NA    & NA    & NA    & NA    & NA    & NA    & NA    & NA    & NA    & NA   \\\\\n",
       "\t N1428 & 69    & 18    & MICRO & 1990  & 1     &  3580 & 4680  &  2640 &  2960 & ...   & NA    & NA    & NA    & NA    & NA    & NA    & NA    & NA    & NA    & NA   \\\\\n",
       "\t N1429 & 69    & 18    & MICRO & 1990  & 1     &  6920 & 5440  &  4900 &  5900 & ...   & NA    & NA    & NA    & NA    & NA    & NA    & NA    & NA    & NA    & NA   \\\\\n",
       "\t N1430 & 69    & 18    & MICRO & 1990  & 1     &   200 & 2100  &  1250 &  2250 & ...   & NA    & NA    & NA    & NA    & NA    & NA    & NA    & NA    & NA    & NA   \\\\\n",
       "\t N1431 & 69    & 18    & MICRO & 1990  & 1     &   700 & 2800  &   600 &  2400 & ...   & NA    & NA    & NA    & NA    & NA    & NA    & NA    & NA    & NA    & NA   \\\\\n",
       "\t ... & ... & ... & ... & ... & ... & ... & ... & ... & ... &     & ... & ... & ... & ... & ... & ... & ... & ... & ... & ...\\\\\n",
       "\t N2800   & 96      & 18      & OTHER   & 1985    & 1       &  1880.0 &  3600.0 &  4600.0 &  6560.0 & ...     & NA      & NA      & NA      & NA      & NA      & NA      & NA      & NA      & NA      & NA     \\\\\n",
       "\t N2801   & 71      & 18      & OTHER   &    0    & 0       &  8139.0 &  8332.2 &  8321.6 &  8374.7 & ...     & NA      & NA      & NA      & NA      & NA      & NA      & NA      & NA      & NA      & NA     \\\\\n",
       "\t N2802   & 71      & 18      & OTHER   &    0    & 0       &  2384.6 &  2376.1 &  2371.8 &  2361.2 & ...     & NA      & NA      & NA      & NA      & NA      & NA      & NA      & NA      & NA      & NA     \\\\\n",
       "\t N2803   & 71      & 18      & OTHER   &    0    & 0       &  5629.1 &  5627.0 &  5673.7 &  5667.4 & ...     & NA      & NA      & NA      & NA      & NA      & NA      & NA      & NA      & NA      & NA     \\\\\n",
       "\t N2804   & 71      & 18      & OTHER   &    0    & 0       & 10961.0 & 10894.7 & 11245.2 & 11392.4 & ...     & NA      & NA      & NA      & NA      & NA      & NA      & NA      & NA      & NA      & NA     \\\\\n",
       "\t N2805   & 71      & 18      & OTHER   &    0    & 0       &  4231.9 &  4170.4 &  4140.6 &  4236.2 & ...     & NA      & NA      & NA      & NA      & NA      & NA      & NA      & NA      & NA      & NA     \\\\\n",
       "\t N2806   & 71      & 18      & OTHER   &    0    & 0       &  4350.8 &  4227.7 &  4166.1 &  4066.3 & ...     & NA      & NA      & NA      & NA      & NA      & NA      & NA      & NA      & NA      & NA     \\\\\n",
       "\t N2807   & 71      & 18      & OTHER   &    0    & 0       &  8559.0 &  8511.9 &  8527.2 &  8537.4 & ...     & NA      & NA      & NA      & NA      & NA      & NA      & NA      & NA      & NA      & NA     \\\\\n",
       "\t N2808   & 71      & 18      & OTHER   &    0    & 0       &  3480.3 &  3454.8 &  3435.7 &  3465.4 & ...     & NA      & NA      & NA      & NA      & NA      & NA      & NA      & NA      & NA      & NA     \\\\\n",
       "\t N2809   & 71      & 18      & OTHER   &    0    & 0       &  4166.1 &  4147.0 &  4121.5 &  4106.7 & ...     & NA      & NA      & NA      & NA      & NA      & NA      & NA      & NA      & NA      & NA     \\\\\n",
       "\t N2810   & 71      & 18      & OTHER   &    0    & 0       &  6407.6 &  6369.6 &  6356.5 &  6328.1 & ...     & NA      & NA      & NA      & NA      & NA      & NA      & NA      & NA      & NA      & NA     \\\\\n",
       "\t N2811   & 71      & 18      & OTHER   &    0    & 0       &  5847.8 &  5839.4 &  5826.6 &  5824.5 & ...     & NA      & NA      & NA      & NA      & NA      & NA      & NA      & NA      & NA      & NA     \\\\\n",
       "\t N2812   & 71      & 18      & OTHER   &    0    & 0       &  7022.1 &  7013.6 &  6767.3 &  6584.7 & ...     & NA      & NA      & NA      & NA      & NA      & NA      & NA      & NA      & NA      & NA     \\\\\n",
       "\t N2813   & 71      & 18      & OTHER   &    0    & 0       &  3420.4 &  3419.9 &  3370.5 &  3323.9 & ...     & NA      & NA      & NA      & NA      & NA      & NA      & NA      & NA      & NA      & NA     \\\\\n",
       "\t N2814   & 71      & 18      & OTHER   &    0    & 0       &  7465.9 &  7419.2 &  7366.1 &  7332.1 & ...     & NA      & NA      & NA      & NA      & NA      & NA      & NA      & NA      & NA      & NA     \\\\\n",
       "\t N2815   & 71      & 18      & OTHER   &    0    & 0       &  3210.6 &  3195.7 &  3180.9 &  3157.5 & ...     & NA      & NA      & NA      & NA      & NA      & NA      & NA      & NA      & NA      & NA     \\\\\n",
       "\t N2816   & 71      & 18      & OTHER   &    0    & 0       &  4425.2 &  4418.8 &  4391.2 &  4363.6 & ...     & NA      & NA      & NA      & NA      & NA      & NA      & NA      & NA      & NA      & NA     \\\\\n",
       "\t N2817   & 71      & 18      & OTHER   &    0    & 0       &  9234.7 &  9179.5 &  9168.8 &  9086.0 & ...     & NA      & NA      & NA      & NA      & NA      & NA      & NA      & NA      & NA      & NA     \\\\\n",
       "\t N2818   & 71      & 18      & OTHER   &    0    & 0       &  3694.1 &  3663.4 &  3634.5 &  3626.0 & ...     & NA      & NA      & NA      & NA      & NA      & NA      & NA      & NA      & NA      & NA     \\\\\n",
       "\t N2819   & 71      & 18      & OTHER   &    0    & 0       &  3498.2 &  3485.2 &  3465.3 &  3468.7 & ...     & NA      & NA      & NA      & NA      & NA      & NA      & NA      & NA      & NA      & NA     \\\\\n",
       "\t N2820   & 71      & 18      & OTHER   &    0    & 0       &  5057.9 &  4934.8 &  4919.9 &  4883.8 & ...     & NA      & NA      & NA      & NA      & NA      & NA      & NA      & NA      & NA      & NA     \\\\\n",
       "\t N2821   & 71      & 18      & OTHER   &    0    & 0       &  7402.2 &  7372.4 &  7293.9 &  7262.0 & ...     & NA      & NA      & NA      & NA      & NA      & NA      & NA      & NA      & NA      & NA     \\\\\n",
       "\t N2822   & 71      & 18      & OTHER   &    0    & 0       & 10324.0 & 10311.2 & 10056.4 & 10075.5 & ...     & NA      & NA      & NA      & NA      & NA      & NA      & NA      & NA      & NA      & NA     \\\\\n",
       "\t N2823   & 71      & 18      & OTHER   &    0    & 0       &  3755.4 &  3782.7 &  3771.3 &  3773.6 & ...     & NA      & NA      & NA      & NA      & NA      & NA      & NA      & NA      & NA      & NA     \\\\\n",
       "\t N2824   & 71      & 18      & OTHER   &    0    & 0       &  5784.1 &  5883.9 &  5758.7 &  5765.0 & ...     & NA      & NA      & NA      & NA      & NA      & NA      & NA      & NA      & NA      & NA     \\\\\n",
       "\t N2825   & 71      & 18      & OTHER   &    0    & 0       &  3295.5 &  3301.9 &  3244.6 &  3221.2 & ...     & NA      & NA      & NA      & NA      & NA      & NA      & NA      & NA      & NA      & NA     \\\\\n",
       "\t N2826   & 71      & 18      & OTHER   &    0    & 0       &  4922.8 &  4924.5 &  4960.9 &  4930.2 & ...     & NA      & NA      & NA      & NA      & NA      & NA      & NA      & NA      & NA      & NA     \\\\\n",
       "\t N2827   & 71      & 18      & OTHER   &    0    & 0       &  4142.8 &  4096.0 &  4074.8 &  4015.3 & ...     & NA      & NA      & NA      & NA      & NA      & NA      & NA      & NA      & NA      & NA     \\\\\n",
       "\t N2828   & 71      & 18      & OTHER   &    0    & 0       &  3004.6 &  2983.4 &  2983.4 &  2974.9 & ...     & NA      & NA      & NA      & NA      & NA      & NA      & NA      & NA      & NA      & NA     \\\\\n",
       "\t N2829   & 71      & 18      & OTHER   &    0    & 0       &  2622.4 &  2607.5 &  2556.6 &  2569.3 & ...     & NA      & NA      & NA      & NA      & NA      & NA      & NA      & NA      & NA      & NA     \\\\\n",
       "\\end{tabular}\n"
      ],
      "text/markdown": [
       "\n",
       "| Series | N | NF | Category | Starting Year | Starting Month | 1 | 2 | 3 | 4 | ... | 135 | 136 | 137 | 138 | 139 | 140 | 141 | 142 | 143 | 144 |\n",
       "|---|---|---|---|---|---|---|---|---|---|---|---|---|---|---|---|---|---|---|---|---|\n",
       "| N1402 | 68    | 18    | MICRO | 1990  | 1     |  2640 | 2640  |  2160 |  4200 | ...   | NA    | NA    | NA    | NA    | NA    | NA    | NA    | NA    | NA    | NA    |\n",
       "| N1403 | 68    | 18    | MICRO | 1990  | 1     |  1680 | 1920  |   120 |  1080 | ...   | NA    | NA    | NA    | NA    | NA    | NA    | NA    | NA    | NA    | NA    |\n",
       "| N1404 | 68    | 18    | MICRO | 1990  | 1     |  1140 |  720  |  4860 |  1200 | ...   | NA    | NA    | NA    | NA    | NA    | NA    | NA    | NA    | NA    | NA    |\n",
       "| N1405 | 68    | 18    | MICRO | 1990  | 1     |   180 |  940  |  2040 |   800 | ...   | NA    | NA    | NA    | NA    | NA    | NA    | NA    | NA    | NA    | NA    |\n",
       "| N1406 | 68    | 18    | MICRO | 1990  | 1     |  2000 | 1550  |  4450 |  3050 | ...   | NA    | NA    | NA    | NA    | NA    | NA    | NA    | NA    | NA    | NA    |\n",
       "| N1407 | 68    | 18    | MICRO | 1990  | 1     |  1200 | 2850  |  1350 |  1500 | ...   | NA    | NA    | NA    | NA    | NA    | NA    | NA    | NA    | NA    | NA    |\n",
       "| N1408 | 68    | 18    | MICRO | 1990  | 1     |  1350 | 2400  |  1950 |  2250 | ...   | NA    | NA    | NA    | NA    | NA    | NA    | NA    | NA    | NA    | NA    |\n",
       "| N1409 | 68    | 18    | MICRO | 1990  | 1     |  2700 | 3600  |  1950 |  4650 | ...   | NA    | NA    | NA    | NA    | NA    | NA    | NA    | NA    | NA    | NA    |\n",
       "| N1410 | 68    | 18    | MICRO | 1990  | 1     |  3680 | 2600  |  2460 |  3860 | ...   | NA    | NA    | NA    | NA    | NA    | NA    | NA    | NA    | NA    | NA    |\n",
       "| N1411 | 68    | 18    | MICRO | 1990  | 1     |  4120 | 5020  |  3840 |  5720 | ...   | NA    | NA    | NA    | NA    | NA    | NA    | NA    | NA    | NA    | NA    |\n",
       "| N1412 | 68    | 18    | MICRO | 1990  | 1     |  2180 | 3540  |  3260 |  3460 | ...   | NA    | NA    | NA    | NA    | NA    | NA    | NA    | NA    | NA    | NA    |\n",
       "| N1413 | 68    | 18    | MICRO | 1990  | 1     |  1000 | 1600  | 12600 |  5320 | ...   | NA    | NA    | NA    | NA    | NA    | NA    | NA    | NA    | NA    | NA    |\n",
       "| N1414 | 68    | 18    | MICRO | 1990  | 1     |  1100 | 1700  |  3950 |  2700 | ...   | NA    | NA    | NA    | NA    | NA    | NA    | NA    | NA    | NA    | NA    |\n",
       "| N1415 | 68    | 18    | MICRO | 1990  | 1     |  3900 | 4900  |  5400 |  4250 | ...   | NA    | NA    | NA    | NA    | NA    | NA    | NA    | NA    | NA    | NA    |\n",
       "| N1416 | 68    | 18    | MICRO | 1990  | 1     |   680 | 2020  |  1780 |  1720 | ...   | NA    | NA    | NA    | NA    | NA    | NA    | NA    | NA    | NA    | NA    |\n",
       "| N1417 | 68    | 18    | MICRO | 1990  | 1     |   880 |  620  |  2240 |  1320 | ...   | NA    | NA    | NA    | NA    | NA    | NA    | NA    | NA    | NA    | NA    |\n",
       "| N1418 | 68    | 18    | MICRO | 1990  | 1     |  2160 |  360  |  1080 |  1920 | ...   | NA    | NA    | NA    | NA    | NA    | NA    | NA    | NA    | NA    | NA    |\n",
       "| N1419 | 68    | 18    | MICRO | 1990  | 1     |   960 | 1920  |  2040 |   840 | ...   | NA    | NA    | NA    | NA    | NA    | NA    | NA    | NA    | NA    | NA    |\n",
       "| N1420 | 69    | 18    | MICRO | 1990  | 1     |  3450 | 3100  |  5350 |  3200 | ...   | NA    | NA    | NA    | NA    | NA    | NA    | NA    | NA    | NA    | NA    |\n",
       "| N1421 | 69    | 18    | MICRO | 1990  | 1     |  6450 | 6400  |  6950 |  6050 | ...   | NA    | NA    | NA    | NA    | NA    | NA    | NA    | NA    | NA    | NA    |\n",
       "| N1422 | 69    | 18    | MICRO | 1990  | 1     |  8900 | 7300  | 11500 | 10100 | ...   | NA    | NA    | NA    | NA    | NA    | NA    | NA    | NA    | NA    | NA    |\n",
       "| N1423 | 69    | 18    | MICRO | 1990  | 1     |  6900 | 7300  |  8100 |  7000 | ...   | NA    | NA    | NA    | NA    | NA    | NA    | NA    | NA    | NA    | NA    |\n",
       "| N1424 | 69    | 18    | MICRO | 1990  | 1     |  5190 | 4805  |  4935 |  3675 | ...   | NA    | NA    | NA    | NA    | NA    | NA    | NA    | NA    | NA    | NA    |\n",
       "| N1425 | 69    | 18    | MICRO | 1990  | 1     | 10500 | 4800  |  6750 |  4600 | ...   | NA    | NA    | NA    | NA    | NA    | NA    | NA    | NA    | NA    | NA    |\n",
       "| N1426 | 69    | 18    | MICRO | 1990  | 1     |  4770 | 4044  |  2960 |  3358 | ...   | NA    | NA    | NA    | NA    | NA    | NA    | NA    | NA    | NA    | NA    |\n",
       "| N1427 | 69    | 18    | MICRO | 1990  | 1     |  4250 | 4500  |  3900 |  3550 | ...   | NA    | NA    | NA    | NA    | NA    | NA    | NA    | NA    | NA    | NA    |\n",
       "| N1428 | 69    | 18    | MICRO | 1990  | 1     |  3580 | 4680  |  2640 |  2960 | ...   | NA    | NA    | NA    | NA    | NA    | NA    | NA    | NA    | NA    | NA    |\n",
       "| N1429 | 69    | 18    | MICRO | 1990  | 1     |  6920 | 5440  |  4900 |  5900 | ...   | NA    | NA    | NA    | NA    | NA    | NA    | NA    | NA    | NA    | NA    |\n",
       "| N1430 | 69    | 18    | MICRO | 1990  | 1     |   200 | 2100  |  1250 |  2250 | ...   | NA    | NA    | NA    | NA    | NA    | NA    | NA    | NA    | NA    | NA    |\n",
       "| N1431 | 69    | 18    | MICRO | 1990  | 1     |   700 | 2800  |   600 |  2400 | ...   | NA    | NA    | NA    | NA    | NA    | NA    | NA    | NA    | NA    | NA    |\n",
       "| ... | ... | ... | ... | ... | ... | ... | ... | ... | ... |     | ... | ... | ... | ... | ... | ... | ... | ... | ... | ... |\n",
       "| N2800   | 96      | 18      | OTHER   | 1985    | 1       |  1880.0 |  3600.0 |  4600.0 |  6560.0 | ...     | NA      | NA      | NA      | NA      | NA      | NA      | NA      | NA      | NA      | NA      |\n",
       "| N2801   | 71      | 18      | OTHER   |    0    | 0       |  8139.0 |  8332.2 |  8321.6 |  8374.7 | ...     | NA      | NA      | NA      | NA      | NA      | NA      | NA      | NA      | NA      | NA      |\n",
       "| N2802   | 71      | 18      | OTHER   |    0    | 0       |  2384.6 |  2376.1 |  2371.8 |  2361.2 | ...     | NA      | NA      | NA      | NA      | NA      | NA      | NA      | NA      | NA      | NA      |\n",
       "| N2803   | 71      | 18      | OTHER   |    0    | 0       |  5629.1 |  5627.0 |  5673.7 |  5667.4 | ...     | NA      | NA      | NA      | NA      | NA      | NA      | NA      | NA      | NA      | NA      |\n",
       "| N2804   | 71      | 18      | OTHER   |    0    | 0       | 10961.0 | 10894.7 | 11245.2 | 11392.4 | ...     | NA      | NA      | NA      | NA      | NA      | NA      | NA      | NA      | NA      | NA      |\n",
       "| N2805   | 71      | 18      | OTHER   |    0    | 0       |  4231.9 |  4170.4 |  4140.6 |  4236.2 | ...     | NA      | NA      | NA      | NA      | NA      | NA      | NA      | NA      | NA      | NA      |\n",
       "| N2806   | 71      | 18      | OTHER   |    0    | 0       |  4350.8 |  4227.7 |  4166.1 |  4066.3 | ...     | NA      | NA      | NA      | NA      | NA      | NA      | NA      | NA      | NA      | NA      |\n",
       "| N2807   | 71      | 18      | OTHER   |    0    | 0       |  8559.0 |  8511.9 |  8527.2 |  8537.4 | ...     | NA      | NA      | NA      | NA      | NA      | NA      | NA      | NA      | NA      | NA      |\n",
       "| N2808   | 71      | 18      | OTHER   |    0    | 0       |  3480.3 |  3454.8 |  3435.7 |  3465.4 | ...     | NA      | NA      | NA      | NA      | NA      | NA      | NA      | NA      | NA      | NA      |\n",
       "| N2809   | 71      | 18      | OTHER   |    0    | 0       |  4166.1 |  4147.0 |  4121.5 |  4106.7 | ...     | NA      | NA      | NA      | NA      | NA      | NA      | NA      | NA      | NA      | NA      |\n",
       "| N2810   | 71      | 18      | OTHER   |    0    | 0       |  6407.6 |  6369.6 |  6356.5 |  6328.1 | ...     | NA      | NA      | NA      | NA      | NA      | NA      | NA      | NA      | NA      | NA      |\n",
       "| N2811   | 71      | 18      | OTHER   |    0    | 0       |  5847.8 |  5839.4 |  5826.6 |  5824.5 | ...     | NA      | NA      | NA      | NA      | NA      | NA      | NA      | NA      | NA      | NA      |\n",
       "| N2812   | 71      | 18      | OTHER   |    0    | 0       |  7022.1 |  7013.6 |  6767.3 |  6584.7 | ...     | NA      | NA      | NA      | NA      | NA      | NA      | NA      | NA      | NA      | NA      |\n",
       "| N2813   | 71      | 18      | OTHER   |    0    | 0       |  3420.4 |  3419.9 |  3370.5 |  3323.9 | ...     | NA      | NA      | NA      | NA      | NA      | NA      | NA      | NA      | NA      | NA      |\n",
       "| N2814   | 71      | 18      | OTHER   |    0    | 0       |  7465.9 |  7419.2 |  7366.1 |  7332.1 | ...     | NA      | NA      | NA      | NA      | NA      | NA      | NA      | NA      | NA      | NA      |\n",
       "| N2815   | 71      | 18      | OTHER   |    0    | 0       |  3210.6 |  3195.7 |  3180.9 |  3157.5 | ...     | NA      | NA      | NA      | NA      | NA      | NA      | NA      | NA      | NA      | NA      |\n",
       "| N2816   | 71      | 18      | OTHER   |    0    | 0       |  4425.2 |  4418.8 |  4391.2 |  4363.6 | ...     | NA      | NA      | NA      | NA      | NA      | NA      | NA      | NA      | NA      | NA      |\n",
       "| N2817   | 71      | 18      | OTHER   |    0    | 0       |  9234.7 |  9179.5 |  9168.8 |  9086.0 | ...     | NA      | NA      | NA      | NA      | NA      | NA      | NA      | NA      | NA      | NA      |\n",
       "| N2818   | 71      | 18      | OTHER   |    0    | 0       |  3694.1 |  3663.4 |  3634.5 |  3626.0 | ...     | NA      | NA      | NA      | NA      | NA      | NA      | NA      | NA      | NA      | NA      |\n",
       "| N2819   | 71      | 18      | OTHER   |    0    | 0       |  3498.2 |  3485.2 |  3465.3 |  3468.7 | ...     | NA      | NA      | NA      | NA      | NA      | NA      | NA      | NA      | NA      | NA      |\n",
       "| N2820   | 71      | 18      | OTHER   |    0    | 0       |  5057.9 |  4934.8 |  4919.9 |  4883.8 | ...     | NA      | NA      | NA      | NA      | NA      | NA      | NA      | NA      | NA      | NA      |\n",
       "| N2821   | 71      | 18      | OTHER   |    0    | 0       |  7402.2 |  7372.4 |  7293.9 |  7262.0 | ...     | NA      | NA      | NA      | NA      | NA      | NA      | NA      | NA      | NA      | NA      |\n",
       "| N2822   | 71      | 18      | OTHER   |    0    | 0       | 10324.0 | 10311.2 | 10056.4 | 10075.5 | ...     | NA      | NA      | NA      | NA      | NA      | NA      | NA      | NA      | NA      | NA      |\n",
       "| N2823   | 71      | 18      | OTHER   |    0    | 0       |  3755.4 |  3782.7 |  3771.3 |  3773.6 | ...     | NA      | NA      | NA      | NA      | NA      | NA      | NA      | NA      | NA      | NA      |\n",
       "| N2824   | 71      | 18      | OTHER   |    0    | 0       |  5784.1 |  5883.9 |  5758.7 |  5765.0 | ...     | NA      | NA      | NA      | NA      | NA      | NA      | NA      | NA      | NA      | NA      |\n",
       "| N2825   | 71      | 18      | OTHER   |    0    | 0       |  3295.5 |  3301.9 |  3244.6 |  3221.2 | ...     | NA      | NA      | NA      | NA      | NA      | NA      | NA      | NA      | NA      | NA      |\n",
       "| N2826   | 71      | 18      | OTHER   |    0    | 0       |  4922.8 |  4924.5 |  4960.9 |  4930.2 | ...     | NA      | NA      | NA      | NA      | NA      | NA      | NA      | NA      | NA      | NA      |\n",
       "| N2827   | 71      | 18      | OTHER   |    0    | 0       |  4142.8 |  4096.0 |  4074.8 |  4015.3 | ...     | NA      | NA      | NA      | NA      | NA      | NA      | NA      | NA      | NA      | NA      |\n",
       "| N2828   | 71      | 18      | OTHER   |    0    | 0       |  3004.6 |  2983.4 |  2983.4 |  2974.9 | ...     | NA      | NA      | NA      | NA      | NA      | NA      | NA      | NA      | NA      | NA      |\n",
       "| N2829   | 71      | 18      | OTHER   |    0    | 0       |  2622.4 |  2607.5 |  2556.6 |  2569.3 | ...     | NA      | NA      | NA      | NA      | NA      | NA      | NA      | NA      | NA      | NA      |\n",
       "\n"
      ],
      "text/plain": [
       "     Series N   NF  Category Starting Year Starting Month 1       2      \n",
       "1    N1402  68  18  MICRO    1990          1               2640   2640   \n",
       "2    N1403  68  18  MICRO    1990          1               1680   1920   \n",
       "3    N1404  68  18  MICRO    1990          1               1140    720   \n",
       "4    N1405  68  18  MICRO    1990          1                180    940   \n",
       "5    N1406  68  18  MICRO    1990          1               2000   1550   \n",
       "6    N1407  68  18  MICRO    1990          1               1200   2850   \n",
       "7    N1408  68  18  MICRO    1990          1               1350   2400   \n",
       "8    N1409  68  18  MICRO    1990          1               2700   3600   \n",
       "9    N1410  68  18  MICRO    1990          1               3680   2600   \n",
       "10   N1411  68  18  MICRO    1990          1               4120   5020   \n",
       "11   N1412  68  18  MICRO    1990          1               2180   3540   \n",
       "12   N1413  68  18  MICRO    1990          1               1000   1600   \n",
       "13   N1414  68  18  MICRO    1990          1               1100   1700   \n",
       "14   N1415  68  18  MICRO    1990          1               3900   4900   \n",
       "15   N1416  68  18  MICRO    1990          1                680   2020   \n",
       "16   N1417  68  18  MICRO    1990          1                880    620   \n",
       "17   N1418  68  18  MICRO    1990          1               2160    360   \n",
       "18   N1419  68  18  MICRO    1990          1                960   1920   \n",
       "19   N1420  69  18  MICRO    1990          1               3450   3100   \n",
       "20   N1421  69  18  MICRO    1990          1               6450   6400   \n",
       "21   N1422  69  18  MICRO    1990          1               8900   7300   \n",
       "22   N1423  69  18  MICRO    1990          1               6900   7300   \n",
       "23   N1424  69  18  MICRO    1990          1               5190   4805   \n",
       "24   N1425  69  18  MICRO    1990          1              10500   4800   \n",
       "25   N1426  69  18  MICRO    1990          1               4770   4044   \n",
       "26   N1427  69  18  MICRO    1990          1               4250   4500   \n",
       "27   N1428  69  18  MICRO    1990          1               3580   4680   \n",
       "28   N1429  69  18  MICRO    1990          1               6920   5440   \n",
       "29   N1430  69  18  MICRO    1990          1                200   2100   \n",
       "30   N1431  69  18  MICRO    1990          1                700   2800   \n",
       "...  ...    ... ... ...      ...           ...            ...     ...    \n",
       "1399 N2800  96  18  OTHER    1985          1               1880.0  3600.0\n",
       "1400 N2801  71  18  OTHER       0          0               8139.0  8332.2\n",
       "1401 N2802  71  18  OTHER       0          0               2384.6  2376.1\n",
       "1402 N2803  71  18  OTHER       0          0               5629.1  5627.0\n",
       "1403 N2804  71  18  OTHER       0          0              10961.0 10894.7\n",
       "1404 N2805  71  18  OTHER       0          0               4231.9  4170.4\n",
       "1405 N2806  71  18  OTHER       0          0               4350.8  4227.7\n",
       "1406 N2807  71  18  OTHER       0          0               8559.0  8511.9\n",
       "1407 N2808  71  18  OTHER       0          0               3480.3  3454.8\n",
       "1408 N2809  71  18  OTHER       0          0               4166.1  4147.0\n",
       "1409 N2810  71  18  OTHER       0          0               6407.6  6369.6\n",
       "1410 N2811  71  18  OTHER       0          0               5847.8  5839.4\n",
       "1411 N2812  71  18  OTHER       0          0               7022.1  7013.6\n",
       "1412 N2813  71  18  OTHER       0          0               3420.4  3419.9\n",
       "1413 N2814  71  18  OTHER       0          0               7465.9  7419.2\n",
       "1414 N2815  71  18  OTHER       0          0               3210.6  3195.7\n",
       "1415 N2816  71  18  OTHER       0          0               4425.2  4418.8\n",
       "1416 N2817  71  18  OTHER       0          0               9234.7  9179.5\n",
       "1417 N2818  71  18  OTHER       0          0               3694.1  3663.4\n",
       "1418 N2819  71  18  OTHER       0          0               3498.2  3485.2\n",
       "1419 N2820  71  18  OTHER       0          0               5057.9  4934.8\n",
       "1420 N2821  71  18  OTHER       0          0               7402.2  7372.4\n",
       "1421 N2822  71  18  OTHER       0          0              10324.0 10311.2\n",
       "1422 N2823  71  18  OTHER       0          0               3755.4  3782.7\n",
       "1423 N2824  71  18  OTHER       0          0               5784.1  5883.9\n",
       "1424 N2825  71  18  OTHER       0          0               3295.5  3301.9\n",
       "1425 N2826  71  18  OTHER       0          0               4922.8  4924.5\n",
       "1426 N2827  71  18  OTHER       0          0               4142.8  4096.0\n",
       "1427 N2828  71  18  OTHER       0          0               3004.6  2983.4\n",
       "1428 N2829  71  18  OTHER       0          0               2622.4  2607.5\n",
       "     3       4       ... 135 136 137 138 139 140 141 142 143 144\n",
       "1     2160    4200   ... NA  NA  NA  NA  NA  NA  NA  NA  NA  NA \n",
       "2      120    1080   ... NA  NA  NA  NA  NA  NA  NA  NA  NA  NA \n",
       "3     4860    1200   ... NA  NA  NA  NA  NA  NA  NA  NA  NA  NA \n",
       "4     2040     800   ... NA  NA  NA  NA  NA  NA  NA  NA  NA  NA \n",
       "5     4450    3050   ... NA  NA  NA  NA  NA  NA  NA  NA  NA  NA \n",
       "6     1350    1500   ... NA  NA  NA  NA  NA  NA  NA  NA  NA  NA \n",
       "7     1950    2250   ... NA  NA  NA  NA  NA  NA  NA  NA  NA  NA \n",
       "8     1950    4650   ... NA  NA  NA  NA  NA  NA  NA  NA  NA  NA \n",
       "9     2460    3860   ... NA  NA  NA  NA  NA  NA  NA  NA  NA  NA \n",
       "10    3840    5720   ... NA  NA  NA  NA  NA  NA  NA  NA  NA  NA \n",
       "11    3260    3460   ... NA  NA  NA  NA  NA  NA  NA  NA  NA  NA \n",
       "12   12600    5320   ... NA  NA  NA  NA  NA  NA  NA  NA  NA  NA \n",
       "13    3950    2700   ... NA  NA  NA  NA  NA  NA  NA  NA  NA  NA \n",
       "14    5400    4250   ... NA  NA  NA  NA  NA  NA  NA  NA  NA  NA \n",
       "15    1780    1720   ... NA  NA  NA  NA  NA  NA  NA  NA  NA  NA \n",
       "16    2240    1320   ... NA  NA  NA  NA  NA  NA  NA  NA  NA  NA \n",
       "17    1080    1920   ... NA  NA  NA  NA  NA  NA  NA  NA  NA  NA \n",
       "18    2040     840   ... NA  NA  NA  NA  NA  NA  NA  NA  NA  NA \n",
       "19    5350    3200   ... NA  NA  NA  NA  NA  NA  NA  NA  NA  NA \n",
       "20    6950    6050   ... NA  NA  NA  NA  NA  NA  NA  NA  NA  NA \n",
       "21   11500   10100   ... NA  NA  NA  NA  NA  NA  NA  NA  NA  NA \n",
       "22    8100    7000   ... NA  NA  NA  NA  NA  NA  NA  NA  NA  NA \n",
       "23    4935    3675   ... NA  NA  NA  NA  NA  NA  NA  NA  NA  NA \n",
       "24    6750    4600   ... NA  NA  NA  NA  NA  NA  NA  NA  NA  NA \n",
       "25    2960    3358   ... NA  NA  NA  NA  NA  NA  NA  NA  NA  NA \n",
       "26    3900    3550   ... NA  NA  NA  NA  NA  NA  NA  NA  NA  NA \n",
       "27    2640    2960   ... NA  NA  NA  NA  NA  NA  NA  NA  NA  NA \n",
       "28    4900    5900   ... NA  NA  NA  NA  NA  NA  NA  NA  NA  NA \n",
       "29    1250    2250   ... NA  NA  NA  NA  NA  NA  NA  NA  NA  NA \n",
       "30     600    2400   ... NA  NA  NA  NA  NA  NA  NA  NA  NA  NA \n",
       "...  ...     ...         ... ... ... ... ... ... ... ... ... ...\n",
       "1399  4600.0  6560.0 ... NA  NA  NA  NA  NA  NA  NA  NA  NA  NA \n",
       "1400  8321.6  8374.7 ... NA  NA  NA  NA  NA  NA  NA  NA  NA  NA \n",
       "1401  2371.8  2361.2 ... NA  NA  NA  NA  NA  NA  NA  NA  NA  NA \n",
       "1402  5673.7  5667.4 ... NA  NA  NA  NA  NA  NA  NA  NA  NA  NA \n",
       "1403 11245.2 11392.4 ... NA  NA  NA  NA  NA  NA  NA  NA  NA  NA \n",
       "1404  4140.6  4236.2 ... NA  NA  NA  NA  NA  NA  NA  NA  NA  NA \n",
       "1405  4166.1  4066.3 ... NA  NA  NA  NA  NA  NA  NA  NA  NA  NA \n",
       "1406  8527.2  8537.4 ... NA  NA  NA  NA  NA  NA  NA  NA  NA  NA \n",
       "1407  3435.7  3465.4 ... NA  NA  NA  NA  NA  NA  NA  NA  NA  NA \n",
       "1408  4121.5  4106.7 ... NA  NA  NA  NA  NA  NA  NA  NA  NA  NA \n",
       "1409  6356.5  6328.1 ... NA  NA  NA  NA  NA  NA  NA  NA  NA  NA \n",
       "1410  5826.6  5824.5 ... NA  NA  NA  NA  NA  NA  NA  NA  NA  NA \n",
       "1411  6767.3  6584.7 ... NA  NA  NA  NA  NA  NA  NA  NA  NA  NA \n",
       "1412  3370.5  3323.9 ... NA  NA  NA  NA  NA  NA  NA  NA  NA  NA \n",
       "1413  7366.1  7332.1 ... NA  NA  NA  NA  NA  NA  NA  NA  NA  NA \n",
       "1414  3180.9  3157.5 ... NA  NA  NA  NA  NA  NA  NA  NA  NA  NA \n",
       "1415  4391.2  4363.6 ... NA  NA  NA  NA  NA  NA  NA  NA  NA  NA \n",
       "1416  9168.8  9086.0 ... NA  NA  NA  NA  NA  NA  NA  NA  NA  NA \n",
       "1417  3634.5  3626.0 ... NA  NA  NA  NA  NA  NA  NA  NA  NA  NA \n",
       "1418  3465.3  3468.7 ... NA  NA  NA  NA  NA  NA  NA  NA  NA  NA \n",
       "1419  4919.9  4883.8 ... NA  NA  NA  NA  NA  NA  NA  NA  NA  NA \n",
       "1420  7293.9  7262.0 ... NA  NA  NA  NA  NA  NA  NA  NA  NA  NA \n",
       "1421 10056.4 10075.5 ... NA  NA  NA  NA  NA  NA  NA  NA  NA  NA \n",
       "1422  3771.3  3773.6 ... NA  NA  NA  NA  NA  NA  NA  NA  NA  NA \n",
       "1423  5758.7  5765.0 ... NA  NA  NA  NA  NA  NA  NA  NA  NA  NA \n",
       "1424  3244.6  3221.2 ... NA  NA  NA  NA  NA  NA  NA  NA  NA  NA \n",
       "1425  4960.9  4930.2 ... NA  NA  NA  NA  NA  NA  NA  NA  NA  NA \n",
       "1426  4074.8  4015.3 ... NA  NA  NA  NA  NA  NA  NA  NA  NA  NA \n",
       "1427  2983.4  2974.9 ... NA  NA  NA  NA  NA  NA  NA  NA  NA  NA \n",
       "1428  2556.6  2569.3 ... NA  NA  NA  NA  NA  NA  NA  NA  NA  NA "
      ]
     },
     "metadata": {},
     "output_type": "display_data"
    }
   ],
   "source": [
    "data"
   ]
  },
  {
   "cell_type": "code",
   "execution_count": 5,
   "metadata": {},
   "outputs": [
    {
     "data": {
      "text/html": [
       "1428"
      ],
      "text/latex": [
       "1428"
      ],
      "text/markdown": [
       "1428"
      ],
      "text/plain": [
       "[1] 1428"
      ]
     },
     "metadata": {},
     "output_type": "display_data"
    }
   ],
   "source": [
    "# total no. of rows in the data\n",
    "\n",
    "nrow(data)"
   ]
  },
  {
   "cell_type": "code",
   "execution_count": 7,
   "metadata": {},
   "outputs": [
    {
     "data": {
      "text/html": [
       "1289"
      ],
      "text/latex": [
       "1289"
      ],
      "text/markdown": [
       "1289"
      ],
      "text/plain": [
       "[1] 1289"
      ]
     },
     "metadata": {},
     "output_type": "display_data"
    }
   ],
   "source": [
    "# sampling one row \n",
    "\n",
    "sample(1:1428, 1)"
   ]
  },
  {
   "cell_type": "code",
   "execution_count": 7,
   "metadata": {},
   "outputs": [
    {
     "data": {
      "text/html": [
       "<table>\n",
       "<thead><tr><th scope=col>Series</th><th scope=col>N</th><th scope=col>NF</th><th scope=col>Category</th><th scope=col>Starting Year</th><th scope=col>Starting Month</th><th scope=col>1</th><th scope=col>2</th><th scope=col>3</th><th scope=col>4</th><th scope=col>...</th><th scope=col>135</th><th scope=col>136</th><th scope=col>137</th><th scope=col>138</th><th scope=col>139</th><th scope=col>140</th><th scope=col>141</th><th scope=col>142</th><th scope=col>143</th><th scope=col>144</th></tr></thead>\n",
       "<tbody>\n",
       "\t<tr><td>N2728      </td><td>135        </td><td>18         </td><td>DEMOGRAPHIC</td><td>1983       </td><td>1          </td><td>3080.3     </td><td>3056       </td><td>3119.8     </td><td>3143.6     </td><td>...        </td><td>4569.6     </td><td>NA         </td><td>NA         </td><td>NA         </td><td>NA         </td><td>NA         </td><td>NA         </td><td>NA         </td><td>NA         </td><td>NA         </td></tr>\n",
       "</tbody>\n",
       "</table>\n"
      ],
      "text/latex": [
       "\\begin{tabular}{r|llllllllllllllllllllllllllllllllllllllllllllllllllllllllllllllllllllllllllllllllllllllllllllllllllllllllllllllllllllllllllllllllllllllllllllllllllllll}\n",
       " Series & N & NF & Category & Starting Year & Starting Month & 1 & 2 & 3 & 4 & ... & 135 & 136 & 137 & 138 & 139 & 140 & 141 & 142 & 143 & 144\\\\\n",
       "\\hline\n",
       "\t N2728       & 135         & 18          & DEMOGRAPHIC & 1983        & 1           & 3080.3      & 3056        & 3119.8      & 3143.6      & ...         & 4569.6      & NA          & NA          & NA          & NA          & NA          & NA          & NA          & NA          & NA         \\\\\n",
       "\\end{tabular}\n"
      ],
      "text/markdown": [
       "\n",
       "| Series | N | NF | Category | Starting Year | Starting Month | 1 | 2 | 3 | 4 | ... | 135 | 136 | 137 | 138 | 139 | 140 | 141 | 142 | 143 | 144 |\n",
       "|---|---|---|---|---|---|---|---|---|---|---|---|---|---|---|---|---|---|---|---|---|\n",
       "| N2728       | 135         | 18          | DEMOGRAPHIC | 1983        | 1           | 3080.3      | 3056        | 3119.8      | 3143.6      | ...         | 4569.6      | NA          | NA          | NA          | NA          | NA          | NA          | NA          | NA          | NA          |\n",
       "\n"
      ],
      "text/plain": [
       "  Series N   NF Category    Starting Year Starting Month 1      2    3     \n",
       "1 N2728  135 18 DEMOGRAPHIC 1983          1              3080.3 3056 3119.8\n",
       "  4      ... 135    136 137 138 139 140 141 142 143 144\n",
       "1 3143.6 ... 4569.6 NA  NA  NA  NA  NA  NA  NA  NA  NA "
      ]
     },
     "metadata": {},
     "output_type": "display_data"
    }
   ],
   "source": [
    "# getting one time series\n",
    "\n",
    "df = data[1327, ]\n",
    "df"
   ]
  },
  {
   "cell_type": "code",
   "execution_count": 8,
   "metadata": {},
   "outputs": [
    {
     "data": {
      "text/html": [
       "<table>\n",
       "<thead><tr><th scope=col>1</th><th scope=col>2</th><th scope=col>3</th><th scope=col>4</th><th scope=col>5</th><th scope=col>6</th><th scope=col>7</th><th scope=col>8</th><th scope=col>9</th><th scope=col>10</th><th scope=col>...</th><th scope=col>126</th><th scope=col>127</th><th scope=col>128</th><th scope=col>129</th><th scope=col>130</th><th scope=col>131</th><th scope=col>132</th><th scope=col>133</th><th scope=col>134</th><th scope=col>135</th></tr></thead>\n",
       "<tbody>\n",
       "\t<tr><td>3080.3</td><td>3056  </td><td>3119.8</td><td>3143.6</td><td>3159.7</td><td>3195.9</td><td>3199.3</td><td>3203.8</td><td>3256.1</td><td>3239.9</td><td>...   </td><td>4449.8</td><td>4441.1</td><td>4464.8</td><td>4544  </td><td>4515.4</td><td>4558  </td><td>4606.2</td><td>4512.7</td><td>4435.2</td><td>4569.6</td></tr>\n",
       "</tbody>\n",
       "</table>\n"
      ],
      "text/latex": [
       "\\begin{tabular}{r|lllllllllllllllllllllllllllllllllllllllllllllllllllllllllllllllllllllllllllllllllllllllllllllllllllllllllllllllllllllllllllllllllllllll}\n",
       " 1 & 2 & 3 & 4 & 5 & 6 & 7 & 8 & 9 & 10 & ... & 126 & 127 & 128 & 129 & 130 & 131 & 132 & 133 & 134 & 135\\\\\n",
       "\\hline\n",
       "\t 3080.3 & 3056   & 3119.8 & 3143.6 & 3159.7 & 3195.9 & 3199.3 & 3203.8 & 3256.1 & 3239.9 & ...    & 4449.8 & 4441.1 & 4464.8 & 4544   & 4515.4 & 4558   & 4606.2 & 4512.7 & 4435.2 & 4569.6\\\\\n",
       "\\end{tabular}\n"
      ],
      "text/markdown": [
       "\n",
       "| 1 | 2 | 3 | 4 | 5 | 6 | 7 | 8 | 9 | 10 | ... | 126 | 127 | 128 | 129 | 130 | 131 | 132 | 133 | 134 | 135 |\n",
       "|---|---|---|---|---|---|---|---|---|---|---|---|---|---|---|---|---|---|---|---|---|\n",
       "| 3080.3 | 3056   | 3119.8 | 3143.6 | 3159.7 | 3195.9 | 3199.3 | 3203.8 | 3256.1 | 3239.9 | ...    | 4449.8 | 4441.1 | 4464.8 | 4544   | 4515.4 | 4558   | 4606.2 | 4512.7 | 4435.2 | 4569.6 |\n",
       "\n"
      ],
      "text/plain": [
       "  1      2    3      4      5      6      7      8      9      10     ...\n",
       "1 3080.3 3056 3119.8 3143.6 3159.7 3195.9 3199.3 3203.8 3256.1 3239.9 ...\n",
       "  126    127    128    129  130    131  132    133    134    135   \n",
       "1 4449.8 4441.1 4464.8 4544 4515.4 4558 4606.2 4512.7 4435.2 4569.6"
      ]
     },
     "metadata": {},
     "output_type": "display_data"
    }
   ],
   "source": [
    "df[1, 7:141]"
   ]
  },
  {
   "cell_type": "markdown",
   "metadata": {},
   "source": [
    "It is checked that the length of the time series is greater than 80."
   ]
  },
  {
   "cell_type": "code",
   "execution_count": 9,
   "metadata": {
    "scrolled": true
   },
   "outputs": [],
   "source": [
    "# converting the entire timeseries data to a ts object\n",
    "\n",
    "tseries = t(df[1, 7:141])\n",
    "data = ts(tseries[, 1], start=c(1983, 1), end=c(1994, 3), frequency=12)\n"
   ]
  },
  {
   "cell_type": "code",
   "execution_count": 10,
   "metadata": {},
   "outputs": [
    {
     "data": {
      "text/html": [
       "135"
      ],
      "text/latex": [
       "135"
      ],
      "text/markdown": [
       "135"
      ],
      "text/plain": [
       "[1] 135"
      ]
     },
     "metadata": {},
     "output_type": "display_data"
    }
   ],
   "source": [
    "length(data)"
   ]
  },
  {
   "cell_type": "code",
   "execution_count": 15,
   "metadata": {},
   "outputs": [
    {
     "data": {
      "image/png": "[encoded data removed]",
      "text/plain": [
       "plot without title"
      ]
     },
     "metadata": {},
     "output_type": "display_data"
    }
   ],
   "source": [
    "# a plot of the time series\n",
    "\n",
    "autoplot(data, xlab=\"Time\", ylab=\"Data\", main=\"Line plot of the time series data\")"
   ]
  },
  {
   "cell_type": "code",
   "execution_count": 16,
   "metadata": {},
   "outputs": [],
   "source": [
    "d_ts = decompose(data)"
   ]
  },
  {
   "cell_type": "code",
   "execution_count": 17,
   "metadata": {},
   "outputs": [
    {
     "data": {
      "image/png": "[encoded data removed]",
      "text/plain": [
       "plot without title"
      ]
     },
     "metadata": {},
     "output_type": "display_data"
    }
   ],
   "source": [
    "autoplot(d_ts)"
   ]
  },
  {
   "cell_type": "markdown",
   "metadata": {},
   "source": [
    "This time series shows an increasing linear trend, is seasonal and the irregularities are random and show no definite pattern."
   ]
  },
  {
   "cell_type": "code",
   "execution_count": 25,
   "metadata": {},
   "outputs": [],
   "source": [
    "# train dataset\n",
    "\n",
    "tseries = t(df[1, 7:123])\n",
    "train = ts(tseries[, 1], start=c(1983, 1), end=c(1992, 9), frequency=12)"
   ]
  },
  {
   "cell_type": "code",
   "execution_count": 27,
   "metadata": {},
   "outputs": [],
   "source": [
    "# ARIMA on the training set\n",
    "\n",
    "ar1 = auto.arima(train)"
   ]
  },
  {
   "cell_type": "code",
   "execution_count": 28,
   "metadata": {},
   "outputs": [
    {
     "data": {
      "text/plain": [
       "Series: train \n",
       "ARIMA(0,1,1)(0,1,1)[12] \n",
       "\n",
       "Coefficients:\n",
       "          ma1     sma1\n",
       "      -0.4225  -0.5522\n",
       "s.e.   0.0865   0.1048\n",
       "\n",
       "sigma^2 estimated as 308.9:  log likelihood=-446.77\n",
       "AIC=899.53   AICc=899.77   BIC=907.47"
      ]
     },
     "metadata": {},
     "output_type": "display_data"
    }
   ],
   "source": [
    "ar1"
   ]
  },
  {
   "cell_type": "code",
   "execution_count": 31,
   "metadata": {},
   "outputs": [],
   "source": [
    "# predicting 18 values\n",
    "\n",
    "pred = forecast(ar1, h=18)"
   ]
  },
  {
   "cell_type": "code",
   "execution_count": 46,
   "metadata": {},
   "outputs": [],
   "source": [
    "# storing the predicted values\n",
    "\n",
    "pred_vals = pred$mean"
   ]
  },
  {
   "cell_type": "code",
   "execution_count": 67,
   "metadata": {},
   "outputs": [],
   "source": [
    "# test set\n",
    "\n",
    "tseries = t(df[1, 124:144])\n",
    "obs = ts(tseries[, 1], start=c(1992, 10), end=c(1994, 3), frequency=12)"
   ]
  },
  {
   "cell_type": "code",
   "execution_count": 69,
   "metadata": {},
   "outputs": [
    {
     "data": {
      "text/html": [
       "18"
      ],
      "text/latex": [
       "18"
      ],
      "text/markdown": [
       "18"
      ],
      "text/plain": [
       "[1] 18"
      ]
     },
     "metadata": {},
     "output_type": "display_data"
    }
   ],
   "source": [
    "length(obs)"
   ]
  },
  {
   "cell_type": "code",
   "execution_count": 50,
   "metadata": {},
   "outputs": [
    {
     "data": {
      "text/html": [
       "18"
      ],
      "text/latex": [
       "18"
      ],
      "text/markdown": [
       "18"
      ],
      "text/plain": [
       "[1] 18"
      ]
     },
     "metadata": {},
     "output_type": "display_data"
    }
   ],
   "source": [
    "length(pred_vals)"
   ]
  },
  {
   "cell_type": "code",
   "execution_count": 70,
   "metadata": {},
   "outputs": [
    {
     "data": {
      "text/html": [
       "<table>\n",
       "<thead><tr><th></th><th scope=col>pred_vals</th><th scope=col>obs</th></tr></thead>\n",
       "<tbody>\n",
       "\t<tr><th scope=row>118</th><td>4391.777</td><td>4379.3  </td></tr>\n",
       "\t<tr><th scope=row>119</th><td>4434.989</td><td>4429.5  </td></tr>\n",
       "\t<tr><th scope=row>120</th><td>4487.398</td><td>4479.9  </td></tr>\n",
       "\t<tr><th scope=row>121</th><td>4394.131</td><td>4395.5  </td></tr>\n",
       "\t<tr><th scope=row>122</th><td>4376.153</td><td>4380.6  </td></tr>\n",
       "\t<tr><th scope=row>123</th><td>4414.481</td><td>4349.1  </td></tr>\n",
       "\t<tr><th scope=row>124</th><td>4403.065</td><td>4407.0  </td></tr>\n",
       "\t<tr><th scope=row>125</th><td>4457.468</td><td>4427.8  </td></tr>\n",
       "\t<tr><th scope=row>126</th><td>4482.415</td><td>4449.8  </td></tr>\n",
       "\t<tr><th scope=row>127</th><td>4463.892</td><td>4441.1  </td></tr>\n",
       "\t<tr><th scope=row>128</th><td>4496.872</td><td>4464.8  </td></tr>\n",
       "\t<tr><th scope=row>129</th><td>4563.007</td><td>4544.0  </td></tr>\n",
       "\t<tr><th scope=row>130</th><td>4532.007</td><td>4515.4  </td></tr>\n",
       "\t<tr><th scope=row>131</th><td>4575.219</td><td>4558.0  </td></tr>\n",
       "\t<tr><th scope=row>132</th><td>4627.628</td><td>4606.2  </td></tr>\n",
       "\t<tr><th scope=row>133</th><td>4534.361</td><td>4512.7  </td></tr>\n",
       "\t<tr><th scope=row>134</th><td>4516.383</td><td>4435.2  </td></tr>\n",
       "\t<tr><th scope=row>135</th><td>4554.711</td><td>4569.6  </td></tr>\n",
       "</tbody>\n",
       "</table>\n"
      ],
      "text/latex": [
       "\\begin{tabular}{r|ll}\n",
       "  & pred\\_vals & obs\\\\\n",
       "\\hline\n",
       "\t118 & 4391.777 & 4379.3  \\\\\n",
       "\t119 & 4434.989 & 4429.5  \\\\\n",
       "\t120 & 4487.398 & 4479.9  \\\\\n",
       "\t121 & 4394.131 & 4395.5  \\\\\n",
       "\t122 & 4376.153 & 4380.6  \\\\\n",
       "\t123 & 4414.481 & 4349.1  \\\\\n",
       "\t124 & 4403.065 & 4407.0  \\\\\n",
       "\t125 & 4457.468 & 4427.8  \\\\\n",
       "\t126 & 4482.415 & 4449.8  \\\\\n",
       "\t127 & 4463.892 & 4441.1  \\\\\n",
       "\t128 & 4496.872 & 4464.8  \\\\\n",
       "\t129 & 4563.007 & 4544.0  \\\\\n",
       "\t130 & 4532.007 & 4515.4  \\\\\n",
       "\t131 & 4575.219 & 4558.0  \\\\\n",
       "\t132 & 4627.628 & 4606.2  \\\\\n",
       "\t133 & 4534.361 & 4512.7  \\\\\n",
       "\t134 & 4516.383 & 4435.2  \\\\\n",
       "\t135 & 4554.711 & 4569.6  \\\\\n",
       "\\end{tabular}\n"
      ],
      "text/markdown": [
       "\n",
       "| <!--/--> | pred_vals | obs |\n",
       "|---|---|---|\n",
       "| 118 | 4391.777 | 4379.3   |\n",
       "| 119 | 4434.989 | 4429.5   |\n",
       "| 120 | 4487.398 | 4479.9   |\n",
       "| 121 | 4394.131 | 4395.5   |\n",
       "| 122 | 4376.153 | 4380.6   |\n",
       "| 123 | 4414.481 | 4349.1   |\n",
       "| 124 | 4403.065 | 4407.0   |\n",
       "| 125 | 4457.468 | 4427.8   |\n",
       "| 126 | 4482.415 | 4449.8   |\n",
       "| 127 | 4463.892 | 4441.1   |\n",
       "| 128 | 4496.872 | 4464.8   |\n",
       "| 129 | 4563.007 | 4544.0   |\n",
       "| 130 | 4532.007 | 4515.4   |\n",
       "| 131 | 4575.219 | 4558.0   |\n",
       "| 132 | 4627.628 | 4606.2   |\n",
       "| 133 | 4534.361 | 4512.7   |\n",
       "| 134 | 4516.383 | 4435.2   |\n",
       "| 135 | 4554.711 | 4569.6   |\n",
       "\n"
      ],
      "text/plain": [
       "    pred_vals obs   \n",
       "118 4391.777  4379.3\n",
       "119 4434.989  4429.5\n",
       "120 4487.398  4479.9\n",
       "121 4394.131  4395.5\n",
       "122 4376.153  4380.6\n",
       "123 4414.481  4349.1\n",
       "124 4403.065  4407.0\n",
       "125 4457.468  4427.8\n",
       "126 4482.415  4449.8\n",
       "127 4463.892  4441.1\n",
       "128 4496.872  4464.8\n",
       "129 4563.007  4544.0\n",
       "130 4532.007  4515.4\n",
       "131 4575.219  4558.0\n",
       "132 4627.628  4606.2\n",
       "133 4534.361  4512.7\n",
       "134 4516.383  4435.2\n",
       "135 4554.711  4569.6"
      ]
     },
     "metadata": {},
     "output_type": "display_data"
    }
   ],
   "source": [
    "# making a dataframe of observed and predicted values\n",
    "\n",
    "d_ = data.frame(pred_vals, obs)\n",
    "\n",
    "d_"
   ]
  },
  {
   "cell_type": "code",
   "execution_count": 71,
   "metadata": {},
   "outputs": [],
   "source": [
    "# saving the dataframe\n",
    "\n",
    "write.csv(d_, \"Output_ARIMA.csv\")"
   ]
  },
  {
   "cell_type": "code",
   "execution_count": 102,
   "metadata": {},
   "outputs": [],
   "source": [
    "# saving the time series data\n",
    "\n",
    "write.csv(df, \"Dataset_1.csv\")"
   ]
  },
  {
   "cell_type": "code",
   "execution_count": null,
   "metadata": {},
   "outputs": [],
   "source": []
  }
 ],
 "metadata": {
  "kernelspec": {
   "display_name": "R",
   "language": "R",
   "name": "ir"
  },
  "language_info": {
   "codemirror_mode": "r",
   "file_extension": ".r",
   "mimetype": "text/x-r-source",
   "name": "R",
   "pygments_lexer": "r",
   "version": "3.6.1"
  }
 },
 "nbformat": 4,
 "nbformat_minor": 4
}
