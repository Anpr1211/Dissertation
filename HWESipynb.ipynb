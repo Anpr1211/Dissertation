{
  "nbformat": 4,
  "nbformat_minor": 0,
  "metadata": {
    "colab": {
      "name": "HWESipynb",
      "provenance": [],
      "include_colab_link": true
    },
    "kernelspec": {
      "name": "python3",
      "display_name": "Python 3"
    }
  },
  "cells": [
    {
      "cell_type": "markdown",
      "metadata": {
        "id": "view-in-github",
        "colab_type": "text"
      },
      "source": [
        "<a href=\"https://colab.research.google.com/github/Anpr1211/Dissertation---Time-Series/blob/master/HWESipynb.ipynb\" target=\"_parent\"><img src=\"https://colab.research.google.com/assets/colab-badge.svg\" alt=\"Open In Colab\"/></a>"
      ]
    },
    {
      "cell_type": "code",
      "metadata": {
        "id": "O53pqmRP9aXB",
        "colab_type": "code",
        "colab": {}
      },
      "source": [
        "import pandas as pd\n",
        "import json\n",
        "import urllib\n",
        "\n",
        "from statsmodels.tsa.holtwinters import ExponentialSmoothing "
      ],
      "execution_count": 0,
      "outputs": []
    },
    {
      "cell_type": "code",
      "metadata": {
        "id": "hk1iRmEM-bXT",
        "colab_type": "code",
        "colab": {}
      },
      "source": [
        " url = \"https://raw.githubusercontent.com/Anpr1211/Dissertation---Time-Series/master/Temp_data.json\"\n",
        " r = urllib.request.urlopen(url)\n",
        " df = json.loads(r.read())"
      ],
      "execution_count": 0,
      "outputs": []
    },
    {
      "cell_type": "code",
      "metadata": {
        "id": "nBXzDkbp9zyi",
        "colab_type": "code",
        "colab": {
          "base_uri": "https://localhost:8080/",
          "height": 54
        },
        "outputId": "4f50db33-5bc0-498c-d3cb-3428128b1542"
      },
      "source": [
        "print(df[0][0:5])"
      ],
      "execution_count": 20,
      "outputs": [
        {
          "output_type": "stream",
          "text": [
            "[{'date': '2016-01-01', 'temperature': 19.3}, {'date': '2016-01-02', 'temperature': 19.7}, {'date': '2016-01-03', 'temperature': 19.7}, {'date': '2016-01-04', 'temperature': 19.3}, {'date': '2016-01-05', 'temperature': 18.9}]\n"
          ],
          "name": "stdout"
        }
      ]
    },
    {
      "cell_type": "code",
      "metadata": {
        "id": "gYGx51sF_O6P",
        "colab_type": "code",
        "colab": {
          "base_uri": "https://localhost:8080/",
          "height": 206
        },
        "outputId": "e1bcc5da-3dfc-4cfa-ecc1-a21d6180ba36"
      },
      "source": [
        "data = pd.DataFrame(df[0])\n",
        "\n",
        "data.head()"
      ],
      "execution_count": 67,
      "outputs": [
        {
          "output_type": "execute_result",
          "data": {
            "text/html": [
              "<div>\n",
              "<style scoped>\n",
              "    .dataframe tbody tr th:only-of-type {\n",
              "        vertical-align: middle;\n",
              "    }\n",
              "\n",
              "    .dataframe tbody tr th {\n",
              "        vertical-align: top;\n",
              "    }\n",
              "\n",
              "    .dataframe thead th {\n",
              "        text-align: right;\n",
              "    }\n",
              "</style>\n",
              "<table border=\"1\" class=\"dataframe\">\n",
              "  <thead>\n",
              "    <tr style=\"text-align: right;\">\n",
              "      <th></th>\n",
              "      <th>date</th>\n",
              "      <th>temperature</th>\n",
              "    </tr>\n",
              "  </thead>\n",
              "  <tbody>\n",
              "    <tr>\n",
              "      <th>0</th>\n",
              "      <td>2016-01-01</td>\n",
              "      <td>19.3</td>\n",
              "    </tr>\n",
              "    <tr>\n",
              "      <th>1</th>\n",
              "      <td>2016-01-02</td>\n",
              "      <td>19.7</td>\n",
              "    </tr>\n",
              "    <tr>\n",
              "      <th>2</th>\n",
              "      <td>2016-01-03</td>\n",
              "      <td>19.7</td>\n",
              "    </tr>\n",
              "    <tr>\n",
              "      <th>3</th>\n",
              "      <td>2016-01-04</td>\n",
              "      <td>19.3</td>\n",
              "    </tr>\n",
              "    <tr>\n",
              "      <th>4</th>\n",
              "      <td>2016-01-05</td>\n",
              "      <td>18.9</td>\n",
              "    </tr>\n",
              "  </tbody>\n",
              "</table>\n",
              "</div>"
            ],
            "text/plain": [
              "         date  temperature\n",
              "0  2016-01-01         19.3\n",
              "1  2016-01-02         19.7\n",
              "2  2016-01-03         19.7\n",
              "3  2016-01-04         19.3\n",
              "4  2016-01-05         18.9"
            ]
          },
          "metadata": {
            "tags": []
          },
          "execution_count": 67
        }
      ]
    },
    {
      "cell_type": "code",
      "metadata": {
        "id": "tk9Wz1sJHkKd",
        "colab_type": "code",
        "colab": {
          "base_uri": "https://localhost:8080/",
          "height": 139
        },
        "outputId": "3f3663be-2030-40c4-dd69-6116cdf5d75a"
      },
      "source": [
        "data.values"
      ],
      "execution_count": 64,
      "outputs": [
        {
          "output_type": "execute_result",
          "data": {
            "text/plain": [
              "array([['2016-01-01', 19.3],\n",
              "       ['2016-01-02', 19.7],\n",
              "       ['2016-01-03', 19.7],\n",
              "       ...,\n",
              "       ['2019-09-28', 25.2],\n",
              "       ['2019-09-29', 25.1],\n",
              "       ['2019-09-30', 27.1]], dtype=object)"
            ]
          },
          "metadata": {
            "tags": []
          },
          "execution_count": 64
        }
      ]
    },
    {
      "cell_type": "code",
      "metadata": {
        "id": "mKmPfB_N_-QU",
        "colab_type": "code",
        "colab": {
          "base_uri": "https://localhost:8080/",
          "height": 34
        },
        "outputId": "eb3e4527-3511-48fb-adc7-38c081f2288f"
      },
      "source": [
        "temp_2016 = data.loc[0:1095].copy()\n",
        "\n",
        "print(len(temp_2016))"
      ],
      "execution_count": 49,
      "outputs": [
        {
          "output_type": "stream",
          "text": [
            "1096\n"
          ],
          "name": "stdout"
        }
      ]
    },
    {
      "cell_type": "code",
      "metadata": {
        "id": "FI-fbrV0AIo3",
        "colab_type": "code",
        "colab": {}
      },
      "source": [
        "model = ExponentialSmoothing(temp_2016[\"temperature\"], trend=None, seasonal=\"add\", seasonal_periods=12)"
      ],
      "execution_count": 0,
      "outputs": []
    },
    {
      "cell_type": "code",
      "metadata": {
        "id": "2ykhGzwjBhaW",
        "colab_type": "code",
        "colab": {}
      },
      "source": [
        "model_fit = model.fit()"
      ],
      "execution_count": 0,
      "outputs": []
    },
    {
      "cell_type": "code",
      "metadata": {
        "id": "fOZImz2xB7Wd",
        "colab_type": "code",
        "colab": {
          "base_uri": "https://localhost:8080/",
          "height": 551
        },
        "outputId": "571aeae3-c999-4277-f116-10b31ae42e41"
      },
      "source": [
        "model_fit.summary()"
      ],
      "execution_count": 43,
      "outputs": [
        {
          "output_type": "execute_result",
          "data": {
            "text/html": [
              "<table class=\"simpletable\">\n",
              "<caption>ExponentialSmoothing Model Results</caption>\n",
              "<tr>\n",
              "  <th>Dep. Variable:</th>            <td>endog</td>        <th>  No. Observations:  </th>        <td>366</td>      \n",
              "</tr>\n",
              "<tr>\n",
              "  <th>Model:</th>            <td>ExponentialSmoothing</td> <th>  SSE                </th>      <td>533.675</td>    \n",
              "</tr>\n",
              "<tr>\n",
              "  <th>Optimized:</th>                <td>True</td>         <th>  AIC                </th>      <td>166.039</td>    \n",
              "</tr>\n",
              "<tr>\n",
              "  <th>Trend:</th>                    <td>None</td>         <th>  BIC                </th>      <td>220.675</td>    \n",
              "</tr>\n",
              "<tr>\n",
              "  <th>Seasonal:</th>               <td>Additive</td>       <th>  AICC               </th>      <td>167.597</td>    \n",
              "</tr>\n",
              "<tr>\n",
              "  <th>Seasonal Periods:</th>          <td>12</td>          <th>  Date:              </th> <td>Mon, 21 Oct 2019</td>\n",
              "</tr>\n",
              "<tr>\n",
              "  <th>Box-Cox:</th>                  <td>False</td>        <th>  Time:              </th>     <td>20:42:00</td>    \n",
              "</tr>\n",
              "<tr>\n",
              "  <th>Box-Cox Coeff.:</th>           <td>None</td>         <th>                     </th>         <td> </td>       \n",
              "</tr>\n",
              "</table>\n",
              "<table class=\"simpletable\">\n",
              "<tr>\n",
              "           <td></td>                  <th>coeff</th>                <th>code</th>               <th>optimized</th>     \n",
              "</tr>\n",
              "<tr>\n",
              "  <th>smoothing_level</th>    <td>           0.9002307</td> <td>               alpha</td> <td>                True</td>\n",
              "</tr>\n",
              "<tr>\n",
              "  <th>smoothing_seasonal</th> <td>            0.000000</td> <td>               gamma</td> <td>                True</td>\n",
              "</tr>\n",
              "<tr>\n",
              "  <th>initial_level</th>      <td>           26.743320</td> <td>                 l.0</td> <td>                True</td>\n",
              "</tr>\n",
              "<tr>\n",
              "  <th>initial_seasons.0</th>  <td>          -7.3740568</td> <td>                 s.0</td> <td>                True</td>\n",
              "</tr>\n",
              "<tr>\n",
              "  <th>initial_seasons.1</th>  <td>          -7.7125140</td> <td>                 s.1</td> <td>                True</td>\n",
              "</tr>\n",
              "<tr>\n",
              "  <th>initial_seasons.2</th>  <td>          -7.2864797</td> <td>                 s.2</td> <td>                True</td>\n",
              "</tr>\n",
              "<tr>\n",
              "  <th>initial_seasons.3</th>  <td>          -7.2830201</td> <td>                 s.3</td> <td>                True</td>\n",
              "</tr>\n",
              "<tr>\n",
              "  <th>initial_seasons.4</th>  <td>          -7.2021283</td> <td>                 s.4</td> <td>                True</td>\n",
              "</tr>\n",
              "<tr>\n",
              "  <th>initial_seasons.5</th>  <td>          -7.1470974</td> <td>                 s.5</td> <td>                True</td>\n",
              "</tr>\n",
              "<tr>\n",
              "  <th>initial_seasons.6</th>  <td>          -7.2898551</td> <td>                 s.6</td> <td>                True</td>\n",
              "</tr>\n",
              "<tr>\n",
              "  <th>initial_seasons.7</th>  <td>          -7.5396365</td> <td>                 s.7</td> <td>                True</td>\n",
              "</tr>\n",
              "<tr>\n",
              "  <th>initial_seasons.8</th>  <td>          -7.5427517</td> <td>                 s.8</td> <td>                True</td>\n",
              "</tr>\n",
              "<tr>\n",
              "  <th>initial_seasons.9</th>  <td>          -7.5591666</td> <td>                 s.9</td> <td>                True</td>\n",
              "</tr>\n",
              "<tr>\n",
              "  <th>initial_seasons.10</th> <td>          -7.4855794</td> <td>                s.10</td> <td>                True</td>\n",
              "</tr>\n",
              "<tr>\n",
              "  <th>initial_seasons.11</th> <td>          -7.4053331</td> <td>                s.11</td> <td>                True</td>\n",
              "</tr>\n",
              "</table>"
            ],
            "text/plain": [
              "<class 'statsmodels.iolib.summary.Summary'>\n",
              "\"\"\"\n",
              "                       ExponentialSmoothing Model Results                       \n",
              "================================================================================\n",
              "Dep. Variable:                    endog   No. Observations:                  366\n",
              "Model:             ExponentialSmoothing   SSE                            533.675\n",
              "Optimized:                         True   AIC                            166.039\n",
              "Trend:                             None   BIC                            220.675\n",
              "Seasonal:                      Additive   AICC                           167.597\n",
              "Seasonal Periods:                    12   Date:                 Mon, 21 Oct 2019\n",
              "Box-Cox:                          False   Time:                         20:42:00\n",
              "Box-Cox Coeff.:                    None                                         \n",
              "=================================================================================\n",
              "                          coeff                 code              optimized      \n",
              "---------------------------------------------------------------------------------\n",
              "smoothing_level               0.9002307                alpha                 True\n",
              "smoothing_seasonal             0.000000                gamma                 True\n",
              "initial_level                 26.743320                  l.0                 True\n",
              "initial_seasons.0            -7.3740568                  s.0                 True\n",
              "initial_seasons.1            -7.7125140                  s.1                 True\n",
              "initial_seasons.2            -7.2864797                  s.2                 True\n",
              "initial_seasons.3            -7.2830201                  s.3                 True\n",
              "initial_seasons.4            -7.2021283                  s.4                 True\n",
              "initial_seasons.5            -7.1470974                  s.5                 True\n",
              "initial_seasons.6            -7.2898551                  s.6                 True\n",
              "initial_seasons.7            -7.5396365                  s.7                 True\n",
              "initial_seasons.8            -7.5427517                  s.8                 True\n",
              "initial_seasons.9            -7.5591666                  s.9                 True\n",
              "initial_seasons.10           -7.4855794                 s.10                 True\n",
              "initial_seasons.11           -7.4053331                 s.11                 True\n",
              "---------------------------------------------------------------------------------\n",
              "\"\"\""
            ]
          },
          "metadata": {
            "tags": []
          },
          "execution_count": 43
        }
      ]
    },
    {
      "cell_type": "code",
      "metadata": {
        "id": "pqg2ptjFEKK4",
        "colab_type": "code",
        "colab": {
          "base_uri": "https://localhost:8080/",
          "height": 551
        },
        "outputId": "6ae307ad-1a49-4c35-b22f-119f5edba0b0"
      },
      "source": [
        "model_fit.summary()"
      ],
      "execution_count": 52,
      "outputs": [
        {
          "output_type": "execute_result",
          "data": {
            "text/html": [
              "<table class=\"simpletable\">\n",
              "<caption>ExponentialSmoothing Model Results</caption>\n",
              "<tr>\n",
              "  <th>Dep. Variable:</th>            <td>endog</td>        <th>  No. Observations:  </th>       <td>1096</td>      \n",
              "</tr>\n",
              "<tr>\n",
              "  <th>Model:</th>            <td>ExponentialSmoothing</td> <th>  SSE                </th>     <td>1766.545</td>    \n",
              "</tr>\n",
              "<tr>\n",
              "  <th>Optimized:</th>                <td>True</td>         <th>  AIC                </th>      <td>551.185</td>    \n",
              "</tr>\n",
              "<tr>\n",
              "  <th>Trend:</th>                    <td>None</td>         <th>  BIC                </th>      <td>621.177</td>    \n",
              "</tr>\n",
              "<tr>\n",
              "  <th>Seasonal:</th>               <td>Additive</td>       <th>  AICC               </th>      <td>551.689</td>    \n",
              "</tr>\n",
              "<tr>\n",
              "  <th>Seasonal Periods:</th>          <td>12</td>          <th>  Date:              </th> <td>Mon, 21 Oct 2019</td>\n",
              "</tr>\n",
              "<tr>\n",
              "  <th>Box-Cox:</th>                  <td>False</td>        <th>  Time:              </th>     <td>20:44:49</td>    \n",
              "</tr>\n",
              "<tr>\n",
              "  <th>Box-Cox Coeff.:</th>           <td>None</td>         <th>                     </th>         <td> </td>       \n",
              "</tr>\n",
              "</table>\n",
              "<table class=\"simpletable\">\n",
              "<tr>\n",
              "           <td></td>                  <th>coeff</th>                <th>code</th>               <th>optimized</th>     \n",
              "</tr>\n",
              "<tr>\n",
              "  <th>smoothing_level</th>    <td>           0.8811027</td> <td>               alpha</td> <td>                True</td>\n",
              "</tr>\n",
              "<tr>\n",
              "  <th>smoothing_seasonal</th> <td>            0.000000</td> <td>               gamma</td> <td>                True</td>\n",
              "</tr>\n",
              "<tr>\n",
              "  <th>initial_level</th>      <td>           26.233818</td> <td>                 l.0</td> <td>                True</td>\n",
              "</tr>\n",
              "<tr>\n",
              "  <th>initial_seasons.0</th>  <td>          -6.8679283</td> <td>                 s.0</td> <td>                True</td>\n",
              "</tr>\n",
              "<tr>\n",
              "  <th>initial_seasons.1</th>  <td>          -7.0602178</td> <td>                 s.1</td> <td>                True</td>\n",
              "</tr>\n",
              "<tr>\n",
              "  <th>initial_seasons.2</th>  <td>          -6.7438258</td> <td>                 s.2</td> <td>                True</td>\n",
              "</tr>\n",
              "<tr>\n",
              "  <th>initial_seasons.3</th>  <td>          -6.7187374</td> <td>                 s.3</td> <td>                True</td>\n",
              "</tr>\n",
              "<tr>\n",
              "  <th>initial_seasons.4</th>  <td>          -6.6362203</td> <td>                 s.4</td> <td>                True</td>\n",
              "</tr>\n",
              "<tr>\n",
              "  <th>initial_seasons.5</th>  <td>          -6.6855631</td> <td>                 s.5</td> <td>                True</td>\n",
              "</tr>\n",
              "<tr>\n",
              "  <th>initial_seasons.6</th>  <td>          -6.6459036</td> <td>                 s.6</td> <td>                True</td>\n",
              "</tr>\n",
              "<tr>\n",
              "  <th>initial_seasons.7</th>  <td>          -6.7403179</td> <td>                 s.7</td> <td>                True</td>\n",
              "</tr>\n",
              "<tr>\n",
              "  <th>initial_seasons.8</th>  <td>          -6.7676781</td> <td>                 s.8</td> <td>                True</td>\n",
              "</tr>\n",
              "<tr>\n",
              "  <th>initial_seasons.9</th>  <td>          -6.9060367</td> <td>                 s.9</td> <td>                True</td>\n",
              "</tr>\n",
              "<tr>\n",
              "  <th>initial_seasons.10</th> <td>          -6.8333904</td> <td>                s.10</td> <td>                True</td>\n",
              "</tr>\n",
              "<tr>\n",
              "  <th>initial_seasons.11</th> <td>          -6.7970221</td> <td>                s.11</td> <td>                True</td>\n",
              "</tr>\n",
              "</table>"
            ],
            "text/plain": [
              "<class 'statsmodels.iolib.summary.Summary'>\n",
              "\"\"\"\n",
              "                       ExponentialSmoothing Model Results                       \n",
              "================================================================================\n",
              "Dep. Variable:                    endog   No. Observations:                 1096\n",
              "Model:             ExponentialSmoothing   SSE                           1766.545\n",
              "Optimized:                         True   AIC                            551.185\n",
              "Trend:                             None   BIC                            621.177\n",
              "Seasonal:                      Additive   AICC                           551.689\n",
              "Seasonal Periods:                    12   Date:                 Mon, 21 Oct 2019\n",
              "Box-Cox:                          False   Time:                         20:44:49\n",
              "Box-Cox Coeff.:                    None                                         \n",
              "=================================================================================\n",
              "                          coeff                 code              optimized      \n",
              "---------------------------------------------------------------------------------\n",
              "smoothing_level               0.8811027                alpha                 True\n",
              "smoothing_seasonal             0.000000                gamma                 True\n",
              "initial_level                 26.233818                  l.0                 True\n",
              "initial_seasons.0            -6.8679283                  s.0                 True\n",
              "initial_seasons.1            -7.0602178                  s.1                 True\n",
              "initial_seasons.2            -6.7438258                  s.2                 True\n",
              "initial_seasons.3            -6.7187374                  s.3                 True\n",
              "initial_seasons.4            -6.6362203                  s.4                 True\n",
              "initial_seasons.5            -6.6855631                  s.5                 True\n",
              "initial_seasons.6            -6.6459036                  s.6                 True\n",
              "initial_seasons.7            -6.7403179                  s.7                 True\n",
              "initial_seasons.8            -6.7676781                  s.8                 True\n",
              "initial_seasons.9            -6.9060367                  s.9                 True\n",
              "initial_seasons.10           -6.8333904                 s.10                 True\n",
              "initial_seasons.11           -6.7970221                 s.11                 True\n",
              "---------------------------------------------------------------------------------\n",
              "\"\"\""
            ]
          },
          "metadata": {
            "tags": []
          },
          "execution_count": 52
        }
      ]
    },
    {
      "cell_type": "code",
      "metadata": {
        "id": "Y58pE0zmCBI0",
        "colab_type": "code",
        "colab": {
          "base_uri": "https://localhost:8080/",
          "height": 156
        },
        "outputId": "5a879912-0e04-43fb-aa08-83bd4a408ee4"
      },
      "source": [
        "model_fit.forecast(7)"
      ],
      "execution_count": 55,
      "outputs": [
        {
          "output_type": "execute_result",
          "data": {
            "text/plain": [
              "1096    17.082550\n",
              "1097    17.033208\n",
              "1098    17.072867\n",
              "1099    16.978453\n",
              "1100    16.951093\n",
              "1101    16.812734\n",
              "1102    16.885380\n",
              "dtype: float64"
            ]
          },
          "metadata": {
            "tags": []
          },
          "execution_count": 55
        }
      ]
    },
    {
      "cell_type": "code",
      "metadata": {
        "id": "-iZtKP4JC3Lj",
        "colab_type": "code",
        "colab": {
          "base_uri": "https://localhost:8080/",
          "height": 520
        },
        "outputId": "5b81d3d3-cce7-483e-c0e6-5a9b38b4f267"
      },
      "source": [
        "data.loc[1096:1110]"
      ],
      "execution_count": 57,
      "outputs": [
        {
          "output_type": "execute_result",
          "data": {
            "text/html": [
              "<div>\n",
              "<style scoped>\n",
              "    .dataframe tbody tr th:only-of-type {\n",
              "        vertical-align: middle;\n",
              "    }\n",
              "\n",
              "    .dataframe tbody tr th {\n",
              "        vertical-align: top;\n",
              "    }\n",
              "\n",
              "    .dataframe thead th {\n",
              "        text-align: right;\n",
              "    }\n",
              "</style>\n",
              "<table border=\"1\" class=\"dataframe\">\n",
              "  <thead>\n",
              "    <tr style=\"text-align: right;\">\n",
              "      <th></th>\n",
              "      <th>date</th>\n",
              "      <th>temperature</th>\n",
              "    </tr>\n",
              "  </thead>\n",
              "  <tbody>\n",
              "    <tr>\n",
              "      <th>1096</th>\n",
              "      <td>2019-01-02</td>\n",
              "      <td>18.2</td>\n",
              "    </tr>\n",
              "    <tr>\n",
              "      <th>1097</th>\n",
              "      <td>2019-01-03</td>\n",
              "      <td>17.6</td>\n",
              "    </tr>\n",
              "    <tr>\n",
              "      <th>1098</th>\n",
              "      <td>2019-01-04</td>\n",
              "      <td>16.9</td>\n",
              "    </tr>\n",
              "    <tr>\n",
              "      <th>1099</th>\n",
              "      <td>2019-01-05</td>\n",
              "      <td>17.2</td>\n",
              "    </tr>\n",
              "    <tr>\n",
              "      <th>1100</th>\n",
              "      <td>2019-01-06</td>\n",
              "      <td>18.6</td>\n",
              "    </tr>\n",
              "    <tr>\n",
              "      <th>1101</th>\n",
              "      <td>2019-01-07</td>\n",
              "      <td>18.9</td>\n",
              "    </tr>\n",
              "    <tr>\n",
              "      <th>1102</th>\n",
              "      <td>2019-01-08</td>\n",
              "      <td>18.7</td>\n",
              "    </tr>\n",
              "    <tr>\n",
              "      <th>1103</th>\n",
              "      <td>2019-01-09</td>\n",
              "      <td>18.1</td>\n",
              "    </tr>\n",
              "    <tr>\n",
              "      <th>1104</th>\n",
              "      <td>2019-01-10</td>\n",
              "      <td>17.6</td>\n",
              "    </tr>\n",
              "    <tr>\n",
              "      <th>1105</th>\n",
              "      <td>2019-01-11</td>\n",
              "      <td>16.8</td>\n",
              "    </tr>\n",
              "    <tr>\n",
              "      <th>1106</th>\n",
              "      <td>2019-01-12</td>\n",
              "      <td>17.9</td>\n",
              "    </tr>\n",
              "    <tr>\n",
              "      <th>1107</th>\n",
              "      <td>2019-01-13</td>\n",
              "      <td>18.7</td>\n",
              "    </tr>\n",
              "    <tr>\n",
              "      <th>1108</th>\n",
              "      <td>2019-01-14</td>\n",
              "      <td>19.3</td>\n",
              "    </tr>\n",
              "    <tr>\n",
              "      <th>1109</th>\n",
              "      <td>2019-01-15</td>\n",
              "      <td>17.6</td>\n",
              "    </tr>\n",
              "    <tr>\n",
              "      <th>1110</th>\n",
              "      <td>2019-01-16</td>\n",
              "      <td>16.6</td>\n",
              "    </tr>\n",
              "  </tbody>\n",
              "</table>\n",
              "</div>"
            ],
            "text/plain": [
              "            date  temperature\n",
              "1096  2019-01-02         18.2\n",
              "1097  2019-01-03         17.6\n",
              "1098  2019-01-04         16.9\n",
              "1099  2019-01-05         17.2\n",
              "1100  2019-01-06         18.6\n",
              "1101  2019-01-07         18.9\n",
              "1102  2019-01-08         18.7\n",
              "1103  2019-01-09         18.1\n",
              "1104  2019-01-10         17.6\n",
              "1105  2019-01-11         16.8\n",
              "1106  2019-01-12         17.9\n",
              "1107  2019-01-13         18.7\n",
              "1108  2019-01-14         19.3\n",
              "1109  2019-01-15         17.6\n",
              "1110  2019-01-16         16.6"
            ]
          },
          "metadata": {
            "tags": []
          },
          "execution_count": 57
        }
      ]
    },
    {
      "cell_type": "code",
      "metadata": {
        "id": "igwMOMOBDL6X",
        "colab_type": "code",
        "colab": {
          "base_uri": "https://localhost:8080/",
          "height": 34
        },
        "outputId": "73c9e2d8-50e9-4c74-f201-19d2d6ee800e"
      },
      "source": [
        "# grid search ets hyperparameters for monthly mean temp dataset\n",
        "from math import sqrt\n",
        "#from multiprocessing import cpu_count\n",
        "from joblib import Parallel\n",
        "from joblib import delayed\n",
        "from warnings import catch_warnings\n",
        "from warnings import filterwarnings\n",
        "from statsmodels.tsa.holtwinters import ExponentialSmoothing\n",
        "from sklearn.metrics import mean_squared_error\n",
        "from pandas import read_csv\n",
        "from numpy import array\n",
        "\n",
        "# one-step Holt Winter’s Exponential Smoothing forecast\n",
        "def exp_smoothing_forecast(history, config):\n",
        "\tt,d,s,p,b,r = config\n",
        "\t# define model\n",
        "\thistory = array(history)\n",
        "\tmodel = ExponentialSmoothing(history, trend=t, damped=d, seasonal=s, seasonal_periods=p)\n",
        "\t# fit model\n",
        "\tmodel_fit = model.fit(optimized=True, use_boxcox=b, remove_bias=r)\n",
        "\t# make one step forecast\n",
        "\tyhat = model_fit.predict(len(history), len(history))\n",
        "\treturn yhat[0]\n",
        "\n",
        "# root mean squared error or rmse\n",
        "def measure_rmse(actual, predicted):\n",
        "\treturn sqrt(mean_squared_error(actual, predicted))\n",
        "\n",
        "# split a univariate dataset into train/test sets\n",
        "def train_test_split(data, n_test):\n",
        "\treturn data[:-n_test], data[-n_test:]\n",
        "\n",
        "# walk-forward validation for univariate data\n",
        "def walk_forward_validation(data, n_test, cfg):\n",
        "\tpredictions = list()\n",
        "\t# split dataset\n",
        "\ttrain, test = train_test_split(data, n_test)\n",
        "\t# seed history with training dataset\n",
        "\thistory = [x for x in train]\n",
        "\t# step over each time-step in the test set\n",
        "\tfor i in range(len(test)):\n",
        "\t\t# fit model and make forecast for history\n",
        "\t\tyhat = exp_smoothing_forecast(history, cfg)\n",
        "\t\t# store forecast in list of predictions\n",
        "\t\tpredictions.append(yhat)\n",
        "\t\t# add actual observation to history for the next loop\n",
        "\t\thistory.append(test[i])\n",
        "\t# estimate prediction error\n",
        "\terror = measure_rmse(test, predictions)\n",
        "\treturn error\n",
        "\n",
        "# score a model, return None on failure\n",
        "def score_model(data, n_test, cfg, debug=False):\n",
        "\tresult = None\n",
        "\t# convert config to a key\n",
        "\tkey = str(cfg)\n",
        "\t# show all warnings and fail on exception if debugging\n",
        "\tif debug:\n",
        "\t\tresult = walk_forward_validation(data, n_test, cfg)\n",
        "\telse:\n",
        "\t\t# one failure during model validation suggests an unstable config\n",
        "\t\ttry:\n",
        "\t\t\t# never show warnings when grid searching, too noisy\n",
        "\t\t\twith catch_warnings():\n",
        "\t\t\t\tfilterwarnings(\"ignore\")\n",
        "\t\t\t\tresult = walk_forward_validation(data, n_test, cfg)\n",
        "\t\texcept:\n",
        "\t\t\terror = None\n",
        "\t# check for an interesting result\n",
        "\tif result is not None:\n",
        "\t\tprint(' > Model[%s] %.3f' % (key, result))\n",
        "\treturn (key, result)\n",
        "\n",
        "# grid search configs\n",
        "def grid_search(data, cfg_list, n_test, parallel=True):\n",
        "\tscores = None\n",
        "\t\n",
        "\tscores = [score_model(data, n_test, cfg) for cfg in cfg_list]\n",
        "\t# remove empty results\n",
        "\tscores = [r for r in scores if r[1] != None]\n",
        "\t# sort configs by error, asc\n",
        "\tscores.sort(key=lambda tup: tup[1])\n",
        "\treturn scores\n",
        "\n",
        "# create a set of exponential smoothing configs to try\n",
        "def exp_smoothing_configs(seasonal=[None]):\n",
        "\tmodels = list()\n",
        "\t# define config lists\n",
        "\tt_params = ['add', 'mul', None]\n",
        "\td_params = [True, False]\n",
        "\ts_params = ['add', 'mul', None]\n",
        "\tp_params = seasonal\n",
        "\tb_params = [True, False]\n",
        "\tr_params = [True, False]\n",
        "\t# create config instances\n",
        "\tfor t in t_params:\n",
        "\t\tfor d in d_params:\n",
        "\t\t\tfor s in s_params:\n",
        "\t\t\t\tfor p in p_params:\n",
        "\t\t\t\t\tfor b in b_params:\n",
        "\t\t\t\t\t\tfor r in r_params:\n",
        "\t\t\t\t\t\t\tcfg = [t,d,s,p,b,r]\n",
        "\t\t\t\t\t\t\tmodels.append(cfg)\n",
        "\treturn models\n",
        "\n",
        "if __name__ == '__main__':\n",
        "\t# load dataset\n",
        "\t#series = read_csv('monthly-mean-temp.csv', header=0, index_col=0)\n",
        "\t#data = series.values\n",
        "\t# trim dataset to 5 years\n",
        "\tdata = data.values\n",
        "\t# data split\n",
        "\tn_test = int(365)\n",
        "\t# model configs\n",
        "\tcfg_list = exp_smoothing_configs(seasonal=[0,12])\n",
        "\t# grid search\n",
        "\tscores = grid_search(data[:,0], cfg_list, n_test)\n",
        "\tprint('done')\n",
        "\t# list top 3 configs\n",
        "\tfor cfg, error in scores[:3]:\n",
        "\t\tprint(cfg, error)"
      ],
      "execution_count": 68,
      "outputs": [
        {
          "output_type": "stream",
          "text": [
            "done\n"
          ],
          "name": "stdout"
        }
      ]
    },
    {
      "cell_type": "code",
      "metadata": {
        "id": "ZcDNVeYrF_B1",
        "colab_type": "code",
        "colab": {
          "base_uri": "https://localhost:8080/",
          "height": 34
        },
        "outputId": "34654c58-5d7f-4b33-9e1a-335331e8da31"
      },
      "source": [
        "scores"
      ],
      "execution_count": 69,
      "outputs": [
        {
          "output_type": "execute_result",
          "data": {
            "text/plain": [
              "[]"
            ]
          },
          "metadata": {
            "tags": []
          },
          "execution_count": 69
        }
      ]
    },
    {
      "cell_type": "code",
      "metadata": {
        "id": "EpGBq-pMH9yU",
        "colab_type": "code",
        "colab": {}
      },
      "source": [
        ""
      ],
      "execution_count": 0,
      "outputs": []
    }
  ]
}