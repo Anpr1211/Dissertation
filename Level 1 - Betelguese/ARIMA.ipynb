{
 "cells": [
  {
   "cell_type": "code",
   "execution_count": 22,
   "metadata": {},
   "outputs": [],
   "source": [
    "import pandas as pd\n",
    "import numpy as np\n",
    "import matplotlib.pyplot as plt\n",
    "from pandas.plotting import autocorrelation_plot\n",
    "from statsmodels.tsa.arima_model import ARIMA\n",
    "from sklearn.metrics import mean_squared_error"
   ]
  },
  {
   "cell_type": "code",
   "execution_count": 2,
   "metadata": {},
   "outputs": [
    {
     "data": {
      "text/html": [
       "<div>\n",
       "<style scoped>\n",
       "    .dataframe tbody tr th:only-of-type {\n",
       "        vertical-align: middle;\n",
       "    }\n",
       "\n",
       "    .dataframe tbody tr th {\n",
       "        vertical-align: top;\n",
       "    }\n",
       "\n",
       "    .dataframe thead th {\n",
       "        text-align: right;\n",
       "    }\n",
       "</style>\n",
       "<table border=\"1\" class=\"dataframe\">\n",
       "  <thead>\n",
       "    <tr style=\"text-align: right;\">\n",
       "      <th></th>\n",
       "      <th>Unnamed: 0</th>\n",
       "      <th>Visual Magnitude</th>\n",
       "      <th>Days before today</th>\n",
       "    </tr>\n",
       "  </thead>\n",
       "  <tbody>\n",
       "    <tr>\n",
       "      <td>0</td>\n",
       "      <td>0.0</td>\n",
       "      <td>1.624000</td>\n",
       "      <td>0.0</td>\n",
       "    </tr>\n",
       "    <tr>\n",
       "      <td>1</td>\n",
       "      <td>1.0</td>\n",
       "      <td>1.596875</td>\n",
       "      <td>1.0</td>\n",
       "    </tr>\n",
       "    <tr>\n",
       "      <td>2</td>\n",
       "      <td>2.0</td>\n",
       "      <td>1.562083</td>\n",
       "      <td>2.0</td>\n",
       "    </tr>\n",
       "    <tr>\n",
       "      <td>3</td>\n",
       "      <td>3.0</td>\n",
       "      <td>1.629412</td>\n",
       "      <td>3.0</td>\n",
       "    </tr>\n",
       "    <tr>\n",
       "      <td>4</td>\n",
       "      <td>4.0</td>\n",
       "      <td>1.615000</td>\n",
       "      <td>4.0</td>\n",
       "    </tr>\n",
       "  </tbody>\n",
       "</table>\n",
       "</div>"
      ],
      "text/plain": [
       "   Unnamed: 0  Visual Magnitude  Days before today\n",
       "0         0.0          1.624000                0.0\n",
       "1         1.0          1.596875                1.0\n",
       "2         2.0          1.562083                2.0\n",
       "3         3.0          1.629412                3.0\n",
       "4         4.0          1.615000                4.0"
      ]
     },
     "execution_count": 2,
     "metadata": {},
     "output_type": "execute_result"
    }
   ],
   "source": [
    "df = pd.read_csv(\"Betelguese_120days_Cleaned.csv\")\n",
    "\n",
    "df.head()"
   ]
  },
  {
   "cell_type": "code",
   "execution_count": 6,
   "metadata": {},
   "outputs": [
    {
     "data": {
      "text/plain": [
       "pandas.core.series.Series"
      ]
     },
     "execution_count": 6,
     "metadata": {},
     "output_type": "execute_result"
    }
   ],
   "source": [
    "data = df[\"Visual Magnitude\"]\n",
    "\n",
    "type(data)"
   ]
  },
  {
   "cell_type": "code",
   "execution_count": 7,
   "metadata": {},
   "outputs": [],
   "source": [
    "data = np.flipud(data) "
   ]
  },
  {
   "cell_type": "code",
   "execution_count": 12,
   "metadata": {},
   "outputs": [
    {
     "data": {
      "image/png": "[encoded data removed]",
      "text/plain": [
       "<Figure size 432x288 with 1 Axes>"
      ]
     },
     "metadata": {
      "needs_background": "light"
     },
     "output_type": "display_data"
    }
   ],
   "source": [
    "autocorrelation_plot(data)\n",
    "plt.show()"
   ]
  },
  {
   "cell_type": "code",
   "execution_count": 25,
   "metadata": {},
   "outputs": [
    {
     "name": "stdout",
     "output_type": "stream",
     "text": [
      "                             ARIMA Model Results                              \n",
      "==============================================================================\n",
      "Dep. Variable:                    D.y   No. Observations:                  149\n",
      "Model:                 ARIMA(5, 1, 0)   Log Likelihood                  95.543\n",
      "Method:                       css-mle   S.D. of innovations              0.127\n",
      "Date:                Thu, 20 Feb 2020   AIC                           -177.086\n",
      "Time:                        18:35:44   BIC                           -156.059\n",
      "Sample:                             1   HQIC                          -168.543\n",
      "                                                                              \n",
      "==============================================================================\n",
      "                 coef    std err          z      P>|z|      [0.025      0.975]\n",
      "------------------------------------------------------------------------------\n",
      "const          0.0066      0.003      2.243      0.026       0.001       0.012\n",
      "ar.L1.D.y     -0.7563      0.081     -9.330      0.000      -0.915      -0.597\n",
      "ar.L2.D.y     -0.6146      0.094     -6.523      0.000      -0.799      -0.430\n",
      "ar.L3.D.y     -0.5292      0.097     -5.462      0.000      -0.719      -0.339\n",
      "ar.L4.D.y     -0.5147      0.094     -5.494      0.000      -0.698      -0.331\n",
      "ar.L5.D.y     -0.1760      0.082     -2.142      0.034      -0.337      -0.015\n",
      "                                    Roots                                    \n",
      "=============================================================================\n",
      "                  Real          Imaginary           Modulus         Frequency\n",
      "-----------------------------------------------------------------------------\n",
      "AR.1            0.5346           -1.0814j            1.2063           -0.1769\n",
      "AR.2            0.5346           +1.0814j            1.2063            0.1769\n",
      "AR.3           -0.9403           -0.9815j            1.3593           -0.3716\n",
      "AR.4           -0.9403           +0.9815j            1.3593            0.3716\n",
      "AR.5           -2.1138           -0.0000j            2.1138           -0.5000\n",
      "-----------------------------------------------------------------------------\n"
     ]
    }
   ],
   "source": [
    "# fit model\n",
    "model = ARIMA(data, order=(5,1,0))\n",
    "model_fit = model.fit()\n",
    "print(model_fit.summary())"
   ]
  },
  {
   "cell_type": "code",
   "execution_count": 26,
   "metadata": {},
   "outputs": [
    {
     "data": {
      "text/plain": [
       "<matplotlib.axes._subplots.AxesSubplot at 0x7ff0250b5b90>"
      ]
     },
     "execution_count": 26,
     "metadata": {},
     "output_type": "execute_result"
    },
    {
     "data": {
      "image/png": "[encoded data removed]",
      "text/plain": [
       "<Figure size 432x288 with 1 Axes>"
      ]
     },
     "metadata": {
      "needs_background": "light"
     },
     "output_type": "display_data"
    }
   ],
   "source": [
    "# plot residual errors\n",
    "residuals = pd.DataFrame(model_fit.resid)\n",
    "residuals.plot()"
   ]
  },
  {
   "cell_type": "code",
   "execution_count": 27,
   "metadata": {},
   "outputs": [
    {
     "data": {
      "text/plain": [
       "<matplotlib.axes._subplots.AxesSubplot at 0x7ff025013a50>"
      ]
     },
     "execution_count": 27,
     "metadata": {},
     "output_type": "execute_result"
    },
    {
     "data": {
      "image/png": "[encoded data removed]",
      "text/plain": [
       "<Figure size 432x288 with 1 Axes>"
      ]
     },
     "metadata": {
      "needs_background": "light"
     },
     "output_type": "display_data"
    }
   ],
   "source": [
    "residuals.plot(kind='kde')"
   ]
  },
  {
   "cell_type": "code",
   "execution_count": 21,
   "metadata": {},
   "outputs": [
    {
     "name": "stdout",
     "output_type": "stream",
     "text": [
      "                0\n",
      "count  149.000000\n",
      "mean    -0.002652\n",
      "std      0.123619\n",
      "min     -0.415747\n",
      "25%     -0.048822\n",
      "50%      0.001341\n",
      "75%      0.044647\n",
      "max      0.364687\n"
     ]
    }
   ],
   "source": [
    "print(residuals.describe())"
   ]
  },
  {
   "cell_type": "code",
   "execution_count": 29,
   "metadata": {
    "scrolled": true
   },
   "outputs": [
    {
     "name": "stdout",
     "output_type": "stream",
     "text": [
      "predicted=1.323887, expected=1.326522\n",
      "predicted=1.323407, expected=1.339268\n",
      "predicted=1.328627, expected=1.386923\n",
      "predicted=1.366724, expected=1.385152\n",
      "predicted=1.381384, expected=1.421905\n",
      "predicted=1.390511, expected=1.308095\n",
      "predicted=1.371058, expected=1.413871\n",
      "predicted=1.402548, expected=1.409333\n",
      "predicted=1.415506, expected=1.411667\n",
      "predicted=1.434643, expected=1.447778\n",
      "predicted=1.413279, expected=1.398500\n",
      "predicted=1.421725, expected=1.500500\n",
      "predicted=1.460632, expected=1.428929\n",
      "predicted=1.453999, expected=1.436111\n",
      "predicted=1.465807, expected=1.455278\n",
      "predicted=1.456502, expected=1.446667\n",
      "predicted=1.482574, expected=1.456818\n",
      "predicted=1.479027, expected=1.466471\n",
      "predicted=1.472006, expected=1.476842\n",
      "predicted=1.484446, expected=1.497917\n",
      "predicted=1.492576, expected=1.484286\n",
      "predicted=1.495152, expected=1.492500\n",
      "predicted=1.502155, expected=1.469268\n",
      "predicted=1.501824, expected=1.502857\n",
      "predicted=1.516126, expected=1.491538\n",
      "predicted=1.515278, expected=1.473333\n",
      "predicted=1.511735, expected=1.538400\n",
      "predicted=1.518173, expected=1.548800\n",
      "predicted=1.535878, expected=1.508148\n",
      "predicted=1.534624, expected=1.556154\n",
      "predicted=1.534182, expected=1.566333\n",
      "predicted=1.559312, expected=1.585333\n",
      "predicted=1.584160, expected=1.551053\n",
      "predicted=1.567906, expected=1.593333\n",
      "predicted=1.584265, expected=1.590000\n",
      "predicted=1.598900, expected=1.608500\n",
      "predicted=1.614277, expected=1.614118\n",
      "predicted=1.610359, expected=1.551538\n",
      "predicted=1.605411, expected=1.547778\n",
      "predicted=1.602217, expected=1.588889\n",
      "predicted=1.612059, expected=1.587619\n",
      "predicted=1.621361, expected=1.574615\n",
      "predicted=1.600768, expected=1.661538\n",
      "predicted=1.608593, expected=1.610000\n",
      "predicted=1.620609, expected=1.599130\n",
      "predicted=1.624638, expected=1.606250\n",
      "predicted=1.616859, expected=1.615000\n",
      "predicted=1.645442, expected=1.629412\n",
      "predicted=1.648588, expected=1.562083\n",
      "predicted=1.621583, expected=1.596875\n",
      "predicted=1.622143, expected=1.624000\n",
      "Test MSE: 0.001\n"
     ]
    }
   ],
   "source": [
    "X = pd.Series(data).values\n",
    "size = int(len(X) * 0.66)\n",
    "train, test = X[0:size], X[size:len(X)]\n",
    "history = [x for x in train]\n",
    "predictions = list()\n",
    "for t in range(len(test)):\n",
    "\tmodel = ARIMA(history, order=(5,1,0))\n",
    "\tmodel_fit = model.fit(disp=0)\n",
    "\toutput = model_fit.forecast()\n",
    "\tyhat = output[0]\n",
    "\tpredictions.append(yhat)\n",
    "\tobs = test[t]\n",
    "\thistory.append(obs)\n",
    "\tprint('predicted=%f, expected=%f' % (yhat, obs))\n",
    "error = mean_squared_error(test, predictions)\n",
    "print('Test MSE: %.3f' % error)"
   ]
  },
  {
   "cell_type": "code",
   "execution_count": null,
   "metadata": {},
   "outputs": [],
   "source": []
  }
 ],
 "metadata": {
  "kernelspec": {
   "display_name": "Python 3",
   "language": "python",
   "name": "python3"
  },
  "language_info": {
   "codemirror_mode": {
    "name": "ipython",
    "version": 3
   },
   "file_extension": ".py",
   "mimetype": "text/x-python",
   "name": "python",
   "nbconvert_exporter": "python",
   "pygments_lexer": "ipython3",
   "version": "3.7.4"
  }
 },
 "nbformat": 4,
 "nbformat_minor": 2
}
